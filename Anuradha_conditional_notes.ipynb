{
  "nbformat": 4,
  "nbformat_minor": 0,
  "metadata": {
    "colab": {
      "name": "Anuradha conditional notes.ipynb",
      "provenance": [],
      "collapsed_sections": [],
      "authorship_tag": "ABX9TyP4K49t7qQLPWW398KWvoKl",
      "include_colab_link": true
    },
    "kernelspec": {
      "name": "python3",
      "display_name": "Python 3"
    },
    "language_info": {
      "name": "python"
    }
  },
  "cells": [
    {
      "cell_type": "markdown",
      "metadata": {
        "id": "view-in-github",
        "colab_type": "text"
      },
      "source": [
        "<a href=\"https://colab.research.google.com/github/AnuBanik/everup-repo/blob/main/Anuradha_conditional_notes.ipynb\" target=\"_parent\"><img src=\"https://colab.research.google.com/assets/colab-badge.svg\" alt=\"Open In Colab\"/></a>"
      ]
    },
    {
      "cell_type": "markdown",
      "source": [
        "EXERCISE"
      ],
      "metadata": {
        "id": "JXDroinLHmwF"
      }
    },
    {
      "cell_type": "code",
      "execution_count": null,
      "metadata": {
        "id": "jFbR9K_x8Og2"
      },
      "outputs": [],
      "source": [
        "patient_exam = 'ecg'\n",
        "if patient_exam != 'ecg':\n",
        "  print('wrong exam')"
      ]
    },
    {
      "cell_type": "code",
      "source": [
        "readmit_days_after_discharge = 30\n",
        "if readmit_days_after_discharge > 30:\n",
        "  print(\"Patient was readmitted after 30 days\")\n",
        "else:\n",
        "  print(\"Patient was readmitted within 30 days\")"
      ],
      "metadata": {
        "id": "wEzJY4TiEqY_"
      },
      "execution_count": null,
      "outputs": []
    },
    {
      "cell_type": "code",
      "source": [
        "age_A = 20\n",
        "age_B = 30\n",
        "age_A < 30 and age_B > 20"
      ],
      "metadata": {
        "colab": {
          "base_uri": "https://localhost:8080/"
        },
        "id": "ed4YYJoQF6tJ",
        "outputId": "0cd1f5c4-a469-44ba-dc3a-5d8574551ae2"
      },
      "execution_count": null,
      "outputs": [
        {
          "output_type": "execute_result",
          "data": {
            "text/plain": [
              "True"
            ]
          },
          "metadata": {},
          "execution_count": 11
        }
      ]
    },
    {
      "cell_type": "code",
      "source": [
        "age_A > 20 or age_B < 30"
      ],
      "metadata": {
        "colab": {
          "base_uri": "https://localhost:8080/"
        },
        "id": "HMLeyradGjCY",
        "outputId": "6737f5d6-0c4b-4036-b954-3e5b3220a0b1"
      },
      "execution_count": null,
      "outputs": [
        {
          "output_type": "execute_result",
          "data": {
            "text/plain": [
              "False"
            ]
          },
          "metadata": {},
          "execution_count": 12
        }
      ]
    },
    {
      "cell_type": "code",
      "source": [
        "age_A != 20"
      ],
      "metadata": {
        "colab": {
          "base_uri": "https://localhost:8080/"
        },
        "id": "ODg9MsPcHVkB",
        "outputId": "3891360a-c6a5-4760-82d1-e01ced190173"
      },
      "execution_count": null,
      "outputs": [
        {
          "output_type": "execute_result",
          "data": {
            "text/plain": [
              "False"
            ]
          },
          "metadata": {},
          "execution_count": 13
        }
      ]
    },
    {
      "cell_type": "code",
      "source": [
        "age_B == 30"
      ],
      "metadata": {
        "colab": {
          "base_uri": "https://localhost:8080/"
        },
        "id": "kdHzePKDHX4t",
        "outputId": "1e23b2f5-7d3b-401f-a694-ab43ed0c0c92"
      },
      "execution_count": null,
      "outputs": [
        {
          "output_type": "execute_result",
          "data": {
            "text/plain": [
              "True"
            ]
          },
          "metadata": {},
          "execution_count": 16
        }
      ]
    },
    {
      "cell_type": "code",
      "source": [
        "patient_exam = ['ecg', 'usg', 'echo']\n",
        "'cath' in patient_exam"
      ],
      "metadata": {
        "colab": {
          "base_uri": "https://localhost:8080/"
        },
        "id": "uUnRaB1XG8lW",
        "outputId": "8f83fb1d-1fb5-42df-a33c-a1735abd0bb9"
      },
      "execution_count": null,
      "outputs": [
        {
          "output_type": "execute_result",
          "data": {
            "text/plain": [
              "False"
            ]
          },
          "metadata": {},
          "execution_count": 7
        }
      ]
    },
    {
      "cell_type": "code",
      "source": [
        "'echo' not in patient_exam"
      ],
      "metadata": {
        "colab": {
          "base_uri": "https://localhost:8080/"
        },
        "id": "IyR2CistHJwH",
        "outputId": "0ab78f11-0f0f-41d8-9829-49c4da5b0dc9"
      },
      "execution_count": null,
      "outputs": [
        {
          "output_type": "execute_result",
          "data": {
            "text/plain": [
              "False"
            ]
          },
          "metadata": {},
          "execution_count": 8
        }
      ]
    },
    {
      "cell_type": "markdown",
      "source": [
        "IF ELIF ELSE"
      ],
      "metadata": {
        "id": "AGN3RmepMgBP"
      }
    },
    {
      "cell_type": "code",
      "source": [
        "age = 32\n",
        "if age < 5:\n",
        "  print (\"free\")\n",
        "elif age < 18:\n",
        "  print('price is $5')\n",
        "else:\n",
        "  print('price is $10')"
      ],
      "metadata": {
        "colab": {
          "base_uri": "https://localhost:8080/"
        },
        "id": "SfIC4W_XMmhQ",
        "outputId": "754a8778-1173-4a45-9c5d-b630d4141c94"
      },
      "execution_count": null,
      "outputs": [
        {
          "output_type": "stream",
          "name": "stdout",
          "text": [
            "price is $10\n"
          ]
        }
      ]
    },
    {
      "cell_type": "code",
      "source": [
        "#alternative\n",
        "age = 32\n",
        "if age < 5:\n",
        "  price = 0\n",
        "elif age < 18:\n",
        "  price = 5\n",
        "else:\n",
        "  price = 10\n",
        "print ('Price is $' + str(price))"
      ],
      "metadata": {
        "colab": {
          "base_uri": "https://localhost:8080/"
        },
        "id": "nb-2BU9dN7i2",
        "outputId": "1f74f920-ec7e-435d-98cf-02776e47b94d"
      },
      "execution_count": null,
      "outputs": [
        {
          "output_type": "stream",
          "name": "stdout",
          "text": [
            "Price is $10\n"
          ]
        }
      ]
    },
    {
      "cell_type": "markdown",
      "source": [
        "EXERCISE"
      ],
      "metadata": {
        "id": "p5jHTeb6P3oG"
      }
    },
    {
      "cell_type": "code",
      "source": [
        "age = 70\n",
        "if age < 2:\n",
        "  print (\"baby\")\n",
        "elif age < 70:\n",
        "  print(\"adult\")\n",
        "else:\n",
        "  print(\"aged\")"
      ],
      "metadata": {
        "colab": {
          "base_uri": "https://localhost:8080/"
        },
        "id": "Ny08SVvmP70C",
        "outputId": "0442dc29-513e-48f1-d630-83ed772c728b"
      },
      "execution_count": null,
      "outputs": [
        {
          "output_type": "stream",
          "name": "stdout",
          "text": [
            "aged\n"
          ]
        }
      ]
    },
    {
      "cell_type": "code",
      "source": [
        "list = ['onion', 'potato', 'tomato', 'spinach', 'fish']\n",
        "if 'onion' in list:\n",
        "  print(\"onion present\")\n",
        "if 'potato' in list:\n",
        "  print(\"potato present\")\n",
        "if 'tomato' in list:\n",
        "  print(\"tomato present\")\n",
        "if 'spinach' in list:\n",
        "  print(\"spinach present\")\n",
        "if 'fish' in list:\n",
        "  print(\"fish present\")"
      ],
      "metadata": {
        "colab": {
          "base_uri": "https://localhost:8080/"
        },
        "id": "w6m4VHocQc_5",
        "outputId": "cf334141-f28f-44a8-84d2-d2b8461b23c6"
      },
      "execution_count": null,
      "outputs": [
        {
          "output_type": "stream",
          "name": "stdout",
          "text": [
            "onion present\n",
            "potato present\n",
            "tomato present\n",
            "spinach present\n",
            "fish present\n"
          ]
        }
      ]
    }
  ]
}