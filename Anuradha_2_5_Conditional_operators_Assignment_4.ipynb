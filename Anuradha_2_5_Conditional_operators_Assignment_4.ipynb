{
  "nbformat": 4,
  "nbformat_minor": 0,
  "metadata": {
    "colab": {
      "name": "Anuradha - 2-5 Conditional operators Assignment 4.ipynb",
      "provenance": [],
      "collapsed_sections": [],
      "include_colab_link": true
    },
    "kernelspec": {
      "name": "python3",
      "display_name": "Python 3"
    },
    "language_info": {
      "name": "python"
    }
  },
  "cells": [
    {
      "cell_type": "markdown",
      "metadata": {
        "id": "view-in-github",
        "colab_type": "text"
      },
      "source": [
        "<a href=\"https://colab.research.google.com/github/AnuBanik/everup-repo/blob/main/Anuradha_2_5_Conditional_operators_Assignment_4.ipynb\" target=\"_parent\"><img src=\"https://colab.research.google.com/assets/colab-badge.svg\" alt=\"Open In Colab\"/></a>"
      ]
    },
    {
      "cell_type": "markdown",
      "source": [
        "##2-5 Conditional operators and if statements\n"
      ],
      "metadata": {
        "id": "JJNI2qrwqgYB"
      }
    },
    {
      "cell_type": "markdown",
      "source": [
        "## Task 1: Admin user names\n",
        "* Make a list of 5 or more usernames, including an admin account. Imagine you are writing code that will welcome people to your application on login. Loop through the list and print your greeting.\n",
        "* If the admin account logs in, give them a special greeting.  They’re the admin, after all!\n",
        "* Other users can get the generic greeting"
      ],
      "metadata": {
        "id": "mXe7c59GqpEX"
      }
    },
    {
      "cell_type": "code",
      "execution_count": null,
      "metadata": {
        "id": "TFOFGzWWqSNV"
      },
      "outputs": [],
      "source": [
        "user_id = ['mod','viper', 'sova', 'sage', 'cypher']\n",
        "\n",
        "if user_id == 'mod':\n",
        "  print(\"Thank you very much for logging in! We are pleased to see you here!\")\n",
        "if user_id == 'viper':\n",
        "  print(\"Welcome!\")\n",
        "if user_id == 'sova':\n",
        "  print(\"Welcome!\")\n",
        "if user_id == 'sage':\n",
        "  print(\"Welcome!\")\n",
        "if user_id == 'cypher':\n",
        "  print(\"Welcome!\")"
      ]
    },
    {
      "cell_type": "markdown",
      "source": [
        "##Task 2: Numbers\n",
        "\n",
        "* Store numbers 1-10 in a list\n",
        "* Loop through the list\n",
        "* Use an if-elif-else chain inside your loop to print the ordinal ending for each number – for example – 1st, 2nd, 3rd … etc."
      ],
      "metadata": {
        "id": "g3nnh2NJq9gY"
      }
    },
    {
      "cell_type": "code",
      "source": [
        "list = [1,2,3,4,5,6,7,8,9,10]\n",
        "for x in list:\n",
        "  if x==1:\n",
        "    print('1st')\n",
        "  elif x==2:\n",
        "    print('2nd')\n",
        "  elif x==3:\n",
        "    print('3rd')\n",
        "  else:\n",
        "    print('xth')"
      ],
      "metadata": {
        "id": "DwBbjFgTrWps",
        "outputId": "7f881a6d-b1f1-4696-a054-eaa341b1050f",
        "colab": {
          "base_uri": "https://localhost:8080/"
        }
      },
      "execution_count": 1,
      "outputs": [
        {
          "output_type": "stream",
          "name": "stdout",
          "text": [
            "1st\n",
            "2nd\n",
            "3rd\n",
            "xth\n",
            "xth\n",
            "xth\n",
            "xth\n",
            "xth\n",
            "xth\n",
            "xth\n"
          ]
        }
      ]
    }
  ]
}