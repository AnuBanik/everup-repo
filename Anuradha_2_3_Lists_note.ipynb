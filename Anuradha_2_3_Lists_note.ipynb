{
  "nbformat": 4,
  "nbformat_minor": 0,
  "metadata": {
    "colab": {
      "name": "Anuradha - 2-3 Lists note.ipynb",
      "provenance": [],
      "collapsed_sections": [],
      "authorship_tag": "ABX9TyMmCNOjTxgadW8ZZh27rmQ5",
      "include_colab_link": true
    },
    "kernelspec": {
      "name": "python3",
      "display_name": "Python 3"
    },
    "language_info": {
      "name": "python"
    }
  },
  "cells": [
    {
      "cell_type": "markdown",
      "metadata": {
        "id": "view-in-github",
        "colab_type": "text"
      },
      "source": [
        "<a href=\"https://colab.research.google.com/github/AnuBanik/everup-repo/blob/main/Anuradha_2_3_Lists_note.ipynb\" target=\"_parent\"><img src=\"https://colab.research.google.com/assets/colab-badge.svg\" alt=\"Open In Colab\"/></a>"
      ]
    },
    {
      "cell_type": "markdown",
      "source": [
        "MAKING A LIST"
      ],
      "metadata": {
        "id": "aD2WAtXwbebw"
      }
    },
    {
      "cell_type": "code",
      "source": [
        "movies = ['The Amazing Spider-man', 'Forrest Gump', 'Twelve angry men', 'Aranyak']\n",
        "print(movies[0])\n",
        "print(movies[3])\n",
        "print(movies[-2]) #backward counting\n",
        "\n",
        "print(movies[0].upper())"
      ],
      "metadata": {
        "colab": {
          "base_uri": "https://localhost:8080/"
        },
        "id": "GyeLeBpIaJj3",
        "outputId": "c2a9a7c9-2158-445d-d863-50066eef30f1"
      },
      "execution_count": null,
      "outputs": [
        {
          "output_type": "stream",
          "name": "stdout",
          "text": [
            "The Amazing Spider-man\n",
            "Aranyak\n",
            "Twelve angry men\n",
            "THE AMAZING SPIDER-MAN\n"
          ]
        }
      ]
    },
    {
      "cell_type": "code",
      "source": [
        "message = \"I love \" + movies[0] + \"!!!\"\n",
        "print(message)"
      ],
      "metadata": {
        "colab": {
          "base_uri": "https://localhost:8080/"
        },
        "id": "V3tkbXGNePef",
        "outputId": "40c3e758-9318-4803-bd81-5cf96bf2a00f"
      },
      "execution_count": null,
      "outputs": [
        {
          "output_type": "stream",
          "name": "stdout",
          "text": [
            "I love The Amazing Spider-man!!!\n"
          ]
        }
      ]
    },
    {
      "cell_type": "markdown",
      "source": [
        "In class Exercise"
      ],
      "metadata": {
        "id": "zoQ2SXFvf4l7"
      }
    },
    {
      "cell_type": "code",
      "source": [
        "friends = ['Sabro', 'Atu', 'Siri']\n",
        "print(friends[0])\n",
        "print(friends[1])\n",
        "print(friends[2])\n",
        "message_1 = 'Thank you for the cake ' + friends[0] + '!'\n",
        "print(message_1)\n",
        "\n",
        "message_2 = 'Goodnight ' + friends[1] + '!'\n",
        "print(message_2)\n",
        "\n",
        "message_3 = 'See you later ' + friends[2] + '!'\n",
        "print(message_3)"
      ],
      "metadata": {
        "id": "quspmGyrf9nk",
        "colab": {
          "base_uri": "https://localhost:8080/"
        },
        "outputId": "09b12e8c-9d2d-4ac4-f0c7-078e37f4cddb"
      },
      "execution_count": null,
      "outputs": [
        {
          "output_type": "stream",
          "name": "stdout",
          "text": [
            "Sabro\n",
            "Atu\n",
            "Siri\n",
            "Thank you for the cake Sabro!\n",
            "Goodnight Atu!\n",
            "See you later Siri!\n"
          ]
        }
      ]
    },
    {
      "cell_type": "markdown",
      "source": [
        "ADD AND OVERWRITE"
      ],
      "metadata": {
        "id": "JumIgo7WsznE"
      }
    },
    {
      "cell_type": "code",
      "source": [
        "movies = ['The Amazing Spider-man', 'Forrest Gump', 'Twelve angry men', 'Aranyak']\n",
        "movies[2] = 'Legally Blond'\n",
        "print(movies)"
      ],
      "metadata": {
        "colab": {
          "base_uri": "https://localhost:8080/"
        },
        "id": "OD0rmpBcs4b0",
        "outputId": "59301410-f220-448b-bf28-621e4cd71095"
      },
      "execution_count": null,
      "outputs": [
        {
          "output_type": "stream",
          "name": "stdout",
          "text": [
            "['The Amazing Spider-man', 'Forrest Gump', 'Legally Blond', 'Aranyak']\n"
          ]
        }
      ]
    },
    {
      "cell_type": "markdown",
      "source": [
        "APPENDING"
      ],
      "metadata": {
        "id": "AcG6AmqPt-UK"
      }
    },
    {
      "cell_type": "code",
      "source": [
        "movies = ['The Amazing Spider-man', 'Forrest Gump', 'Twelve angry men', 'Aranyak']\n",
        "movies.append('Legally Blond')   #appending at the end of list\n",
        "print(movies)"
      ],
      "metadata": {
        "colab": {
          "base_uri": "https://localhost:8080/"
        },
        "id": "hioX41Fot_h6",
        "outputId": "e0b12351-28a9-42b7-8df5-9c489ef4fff7"
      },
      "execution_count": null,
      "outputs": [
        {
          "output_type": "stream",
          "name": "stdout",
          "text": [
            "['The Amazing Spider-man', 'Forrest Gump', 'Twelve angry men', 'Aranyak', 'Legally Blond']\n"
          ]
        }
      ]
    },
    {
      "cell_type": "markdown",
      "source": [
        "INSERT"
      ],
      "metadata": {
        "id": "sjajsoBXv8dG"
      }
    },
    {
      "cell_type": "code",
      "source": [
        "movies.insert(1,'Aladdin')   #put in specific position\n",
        "print(movies)"
      ],
      "metadata": {
        "colab": {
          "base_uri": "https://localhost:8080/"
        },
        "id": "XJS6EidDuXft",
        "outputId": "677b38c2-b887-444b-8ae5-ac1e8c4fe6c0"
      },
      "execution_count": 39,
      "outputs": [
        {
          "output_type": "stream",
          "name": "stdout",
          "text": [
            "['Twelve angry men', 'Aladdin']\n"
          ]
        }
      ]
    },
    {
      "cell_type": "markdown",
      "source": [
        "DELETE OR REMOVE"
      ],
      "metadata": {
        "id": "PV7mhGBFvg1r"
      }
    },
    {
      "cell_type": "code",
      "source": [
        "movies = ['The Amazing Spider-man', 'Forrest Gump', 'Twelve angry men', 'Aranyak']\n",
        "del movies[-2]\n",
        "print(movies)"
      ],
      "metadata": {
        "colab": {
          "base_uri": "https://localhost:8080/"
        },
        "id": "QaAQ2G0Hvjad",
        "outputId": "df855841-0da7-4495-f518-f5e154a84f9d"
      },
      "execution_count": 42,
      "outputs": [
        {
          "output_type": "stream",
          "name": "stdout",
          "text": [
            "['The Amazing Spider-man', 'Forrest Gump', 'Aranyak']\n"
          ]
        }
      ]
    },
    {
      "cell_type": "code",
      "source": [
        "movies.remove('Forrest Gump')\n",
        "print(movies)"
      ],
      "metadata": {
        "colab": {
          "base_uri": "https://localhost:8080/"
        },
        "id": "osh_diz3vqLh",
        "outputId": "933333c0-57c8-47cc-f22b-38ead83dde01"
      },
      "execution_count": null,
      "outputs": [
        {
          "output_type": "stream",
          "name": "stdout",
          "text": [
            "['The Amazing Spider-man', 'Twelve angry men', 'Legally Blond']\n"
          ]
        }
      ]
    },
    {
      "cell_type": "markdown",
      "source": [
        "EXERCISE"
      ],
      "metadata": {
        "id": "E4fEm1w-xO0i"
      }
    },
    {
      "cell_type": "code",
      "source": [
        "food = ['pizza', 'hotdog', 'pastry']\n",
        "message = 'My favorite foods are ' + food[0] + ' ' + food[1] + ' ' + food[2] + '!'\n",
        "print(message)"
      ],
      "metadata": {
        "colab": {
          "base_uri": "https://localhost:8080/"
        },
        "id": "3uh905aExUPR",
        "outputId": "e100ad91-6423-48df-f8e9-999baec0eaf2"
      },
      "execution_count": 52,
      "outputs": [
        {
          "output_type": "stream",
          "name": "stdout",
          "text": [
            "My favorite foods are pizza hotdog pastry!\n"
          ]
        }
      ]
    },
    {
      "cell_type": "code",
      "source": [
        "food.append('ice cream')\n",
        "print(food)"
      ],
      "metadata": {
        "colab": {
          "base_uri": "https://localhost:8080/"
        },
        "id": "jqJAi7K2yE1y",
        "outputId": "1364529a-8851-4482-98ce-92efe7844db1"
      },
      "execution_count": 54,
      "outputs": [
        {
          "output_type": "stream",
          "name": "stdout",
          "text": [
            "['pizza', 'hotdog', 'pastry', 'ice cream']\n"
          ]
        }
      ]
    },
    {
      "cell_type": "code",
      "source": [
        "food.remove('pastry')\n",
        "print(food)"
      ],
      "metadata": {
        "colab": {
          "base_uri": "https://localhost:8080/"
        },
        "id": "f-4wkIkqyaE3",
        "outputId": "e7cbbbfc-f0c4-440e-eb17-e8580e855719"
      },
      "execution_count": 55,
      "outputs": [
        {
          "output_type": "stream",
          "name": "stdout",
          "text": [
            "['pizza', 'hotdog', 'ice cream']\n"
          ]
        }
      ]
    },
    {
      "cell_type": "code",
      "source": [
        "food.insert(0, 'burger')\n",
        "print(food)"
      ],
      "metadata": {
        "colab": {
          "base_uri": "https://localhost:8080/"
        },
        "id": "s30fiI90yiZW",
        "outputId": "05eec533-a38d-46fc-aae3-3ac7ce30013e"
      },
      "execution_count": 56,
      "outputs": [
        {
          "output_type": "stream",
          "name": "stdout",
          "text": [
            "['burger', 'pizza', 'hotdog', 'ice cream']\n"
          ]
        }
      ]
    },
    {
      "cell_type": "markdown",
      "source": [
        "SORT AND LENGTH"
      ],
      "metadata": {
        "id": "JgsGc7nB6Y8C"
      }
    },
    {
      "cell_type": "code",
      "source": [
        "movies = ['The Amazing Spider-man', 'Forrest Gump', 'Twelve angry men', 'Aranyak']\n",
        "movies.sort()   #alphabetic order\n",
        "print(movies)   #permanently changed order"
      ],
      "metadata": {
        "colab": {
          "base_uri": "https://localhost:8080/"
        },
        "id": "o6aQPm-D6guH",
        "outputId": "900b2fdc-bdb7-4455-9b87-97fcd57f3bd8"
      },
      "execution_count": 59,
      "outputs": [
        {
          "output_type": "stream",
          "name": "stdout",
          "text": [
            "['Aranyak', 'Forrest Gump', 'The Amazing Spider-man', 'Twelve angry men']\n"
          ]
        }
      ]
    },
    {
      "cell_type": "code",
      "source": [
        "movies = ['The Amazing Spider-man', 'Forrest Gump', 'Twelve angry men', 'Aranyak']\n",
        "movies.sort(reverse=True)   #reverse alphabetically\n",
        "print(movies)"
      ],
      "metadata": {
        "colab": {
          "base_uri": "https://localhost:8080/"
        },
        "id": "tCSvdOfe7iZq",
        "outputId": "5724ee3d-25c4-4d57-95d0-c4508f4f129e"
      },
      "execution_count": 63,
      "outputs": [
        {
          "output_type": "stream",
          "name": "stdout",
          "text": [
            "['Twelve angry men', 'The Amazing Spider-man', 'Forrest Gump', 'Aranyak']\n"
          ]
        }
      ]
    },
    {
      "cell_type": "code",
      "source": [
        "len(movies)"
      ],
      "metadata": {
        "colab": {
          "base_uri": "https://localhost:8080/"
        },
        "id": "MIkAgRQM6_50",
        "outputId": "77d1007f-bc02-48eb-fe48-738b55bbe67f"
      },
      "execution_count": 61,
      "outputs": [
        {
          "output_type": "execute_result",
          "data": {
            "text/plain": [
              "4"
            ]
          },
          "metadata": {},
          "execution_count": 61
        }
      ]
    },
    {
      "cell_type": "markdown",
      "source": [
        "EXERCISE"
      ],
      "metadata": {
        "id": "RPHd0F_G8ASM"
      }
    },
    {
      "cell_type": "code",
      "source": [
        "travel = ['Istabul','England','Italy','Morocco','France']\n",
        "print(travel)"
      ],
      "metadata": {
        "colab": {
          "base_uri": "https://localhost:8080/"
        },
        "id": "8DDu43Qb8BvL",
        "outputId": "e37a025c-6138-4069-916a-a810e882ceb8"
      },
      "execution_count": 67,
      "outputs": [
        {
          "output_type": "stream",
          "name": "stdout",
          "text": [
            "['Istabul', 'England', 'Italy', 'Morocco', 'France']\n"
          ]
        }
      ]
    },
    {
      "cell_type": "code",
      "source": [
        "travel.sort()\n",
        "print(travel)"
      ],
      "metadata": {
        "colab": {
          "base_uri": "https://localhost:8080/"
        },
        "id": "oLhq-tz1BqoA",
        "outputId": "661a3ef1-38f2-4b90-921f-39acfff11a24"
      },
      "execution_count": 75,
      "outputs": [
        {
          "output_type": "stream",
          "name": "stdout",
          "text": [
            "['England', 'France', 'Istabul', 'Italy', 'Morocco']\n"
          ]
        }
      ]
    },
    {
      "cell_type": "code",
      "source": [
        "travel.sort(reverse = True)\n",
        "print(travel)"
      ],
      "metadata": {
        "colab": {
          "base_uri": "https://localhost:8080/"
        },
        "id": "L-D3QPHz8blH",
        "outputId": "c3801268-a386-46f6-8cdb-347d3f5f630e"
      },
      "execution_count": 76,
      "outputs": [
        {
          "output_type": "stream",
          "name": "stdout",
          "text": [
            "['Morocco', 'Italy', 'Istabul', 'France', 'England']\n"
          ]
        }
      ]
    }
  ]
}