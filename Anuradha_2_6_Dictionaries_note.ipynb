{
  "nbformat": 4,
  "nbformat_minor": 0,
  "metadata": {
    "colab": {
      "name": "Anuradha_2-6_Dictionaries note.ipynb",
      "provenance": [],
      "collapsed_sections": [],
      "authorship_tag": "ABX9TyPS/15ppEFwZHEcaT2mCus1",
      "include_colab_link": true
    },
    "kernelspec": {
      "name": "python3",
      "display_name": "Python 3"
    },
    "language_info": {
      "name": "python"
    }
  },
  "cells": [
    {
      "cell_type": "markdown",
      "metadata": {
        "id": "view-in-github",
        "colab_type": "text"
      },
      "source": [
        "<a href=\"https://colab.research.google.com/github/AnuBanik/everup-repo/blob/main/Anuradha_2_6_Dictionaries_note.ipynb\" target=\"_parent\"><img src=\"https://colab.research.google.com/assets/colab-badge.svg\" alt=\"Open In Colab\"/></a>"
      ]
    },
    {
      "cell_type": "code",
      "execution_count": null,
      "metadata": {
        "colab": {
          "base_uri": "https://localhost:8080/"
        },
        "id": "hmg7tUcsG0YH",
        "outputId": "26cce2a3-547f-4b3c-ee12-afed2d06660f"
      },
      "outputs": [
        {
          "output_type": "stream",
          "name": "stdout",
          "text": [
            "John\n",
            "Luc\n"
          ]
        }
      ],
      "source": [
        "patient_1 = {'first_name': 'John', 'last_name': 'Luc'}\n",
        "print(patient_1['first_name'])\n",
        "print(patient_1['last_name'])"
      ]
    },
    {
      "cell_type": "code",
      "source": [
        "patient_name = patient_1['first_name']\n",
        "print('hello there, ' + patient_name)"
      ],
      "metadata": {
        "colab": {
          "base_uri": "https://localhost:8080/"
        },
        "id": "7rXR81jcRrG7",
        "outputId": "d5959214-cbcf-467b-b382-c1c4664d2730"
      },
      "execution_count": null,
      "outputs": [
        {
          "output_type": "stream",
          "name": "stdout",
          "text": [
            "hello there, John\n"
          ]
        }
      ]
    },
    {
      "cell_type": "code",
      "source": [
        "patient_1['MRN'] = '112899'\n",
        "patient_1['DOB'] = '02102000'\n",
        "print(patient_1)"
      ],
      "metadata": {
        "colab": {
          "base_uri": "https://localhost:8080/"
        },
        "id": "bmO5d9meR-th",
        "outputId": "4222d95b-f21f-4c49-bdca-574ad295dc6f"
      },
      "execution_count": null,
      "outputs": [
        {
          "output_type": "stream",
          "name": "stdout",
          "text": [
            "{'first_name': 'John', 'last_name': 'Luc', 'MRN': '112899', 'DOB': '02102000'}\n"
          ]
        }
      ]
    },
    {
      "cell_type": "markdown",
      "source": [
        "PUTTING IT ALL TOGETHER"
      ],
      "metadata": {
        "id": "345fNwleSz-D"
      }
    },
    {
      "cell_type": "code",
      "source": [
        "patient_1 = {\n",
        " 'first_name': 'John',\n",
        " 'last_name': 'Doe',\n",
        " 'MRN': '257896',\n",
        " 'DOB': '02102000'   \n",
        "}\n",
        "print(patient_1)"
      ],
      "metadata": {
        "colab": {
          "base_uri": "https://localhost:8080/"
        },
        "id": "K-Qcwt6yS4E0",
        "outputId": "a543f4d7-44fb-4a4d-b39d-93160ec3f59b"
      },
      "execution_count": null,
      "outputs": [
        {
          "output_type": "stream",
          "name": "stdout",
          "text": [
            "{'first_name': 'John', 'last_name': 'Doe', 'MRN': '257896', 'DOB': '02102000'}\n"
          ]
        }
      ]
    },
    {
      "cell_type": "markdown",
      "source": [
        "EXERCISE"
      ],
      "metadata": {
        "id": "RythEKn9Tg-B"
      }
    },
    {
      "cell_type": "code",
      "source": [
        "friend = {'first_name': 'Sivia', 'last_name': 'Naimer', 'age': '27', 'city': 'NYC', 'country': 'United States'}\n",
        "print(friend['first_name'])\n",
        "print(friend['last_name'])\n",
        "print(friend['age'])\n",
        "print(friend['city'])\n",
        "print(friend['country'])"
      ],
      "metadata": {
        "colab": {
          "base_uri": "https://localhost:8080/"
        },
        "id": "B9ffRpVJUsGG",
        "outputId": "a904255f-a0f8-40a4-c61f-f978e4cff23e"
      },
      "execution_count": null,
      "outputs": [
        {
          "output_type": "stream",
          "name": "stdout",
          "text": [
            "Sivia\n",
            "Naimer\n",
            "27\n",
            "NYC\n",
            "United States\n"
          ]
        }
      ]
    },
    {
      "cell_type": "code",
      "source": [
        "info = {\n",
        "    'name_1 and age': 'John Doe, Age: 28',\n",
        "    'name_2 and age': 'Ciri Elise, Age: 18',\n",
        "    'name_3 and age': 'Sanchita Rahman, Age: 23',\n",
        "    'name_4 and age': 'Joseph Mil, Age: 25',\n",
        "    'name_5 and age': 'Todd Kelvin Age: 19'    \n",
        "}\n",
        "print(info['name_1 and age'])\n",
        "print(info['name_2 and age'])\n",
        "print(info['name_3 and age'])\n",
        "print(info['name_4 and age'])\n",
        "print(info['name_5 and age'])"
      ],
      "metadata": {
        "colab": {
          "base_uri": "https://localhost:8080/"
        },
        "id": "uJctIGGYVhfw",
        "outputId": "fd9f74fd-6ef0-4199-b653-f0a71cce13ac"
      },
      "execution_count": null,
      "outputs": [
        {
          "output_type": "stream",
          "name": "stdout",
          "text": [
            "John Doe, Age: 28\n",
            "Ciri Elise, Age: 18\n",
            "Sanchita Rahman, Age: 23\n",
            "Joseph Mil, Age: 25\n",
            "Todd Kelvin Age: 19\n"
          ]
        }
      ]
    },
    {
      "cell_type": "code",
      "source": [
        "glossary = {\n",
        "    'Python': 'object oriented language',\n",
        "    'List' :'a collection of items in a specific order',\n",
        "    'Dictionaries' : 'a collection of key-value pairs'\n",
        "}\n",
        "print('GLOSSARY:')\n",
        "print('Python: ' + glossary['Python'])\n",
        "print('List: ' + glossary['List'])\n",
        "print('Dictionaries: ' + glossary['Dictionaries'] )"
      ],
      "metadata": {
        "colab": {
          "base_uri": "https://localhost:8080/"
        },
        "id": "vfxrpnlsW7dI",
        "outputId": "297df807-2876-4863-df3c-1cdaeef9728d"
      },
      "execution_count": null,
      "outputs": [
        {
          "output_type": "stream",
          "name": "stdout",
          "text": [
            "GLOSSARY:\n",
            "Python: object oriented language\n",
            "List: a collection of items in a specific order\n",
            "Dictionaries: a collection of key-value pairs\n"
          ]
        }
      ]
    },
    {
      "cell_type": "markdown",
      "source": [
        "KEYS"
      ],
      "metadata": {
        "id": "8MIZ0UIBgnBH"
      }
    },
    {
      "cell_type": "code",
      "source": [
        "friends_age = {\n",
        "    'nick': '30',\n",
        "    'jonh': '20',\n",
        "    'amanda': '28'\n",
        "}\n",
        "for name in friends_age.keys():  #.keys() only pulls out keys and not values\n",
        "  print(name.title())"
      ],
      "metadata": {
        "colab": {
          "base_uri": "https://localhost:8080/"
        },
        "id": "89dff-DSitvd",
        "outputId": "aac1c0bf-7a43-48ca-ca77-fc1ce86ba30f"
      },
      "execution_count": null,
      "outputs": [
        {
          "output_type": "stream",
          "name": "stdout",
          "text": [
            "Nick\n",
            "Jonh\n",
            "Amanda\n"
          ]
        }
      ]
    },
    {
      "cell_type": "code",
      "source": [
        "friends_age = {\n",
        "    'nick': '30',\n",
        "    'jonh': '20',\n",
        "    'amanda': '28'\n",
        "}\n",
        "for name, age in friends_age.items():   #.items() pulls out both keys and values\n",
        "  print(name.title())\n",
        "  print(age.title() + '\\n')"
      ],
      "metadata": {
        "colab": {
          "base_uri": "https://localhost:8080/"
        },
        "id": "lx0NOCQcgpsB",
        "outputId": "f79c1541-b093-4440-ce91-e1bad29d7bd3"
      },
      "execution_count": null,
      "outputs": [
        {
          "output_type": "stream",
          "name": "stdout",
          "text": [
            "Nick\n",
            "30\n",
            "\n",
            "Jonh\n",
            "20\n",
            "\n",
            "Amanda\n",
            "28\n",
            "\n"
          ]
        }
      ]
    },
    {
      "cell_type": "markdown",
      "source": [
        "WHILE LOOP"
      ],
      "metadata": {
        "id": "GOVNcW-LhpwG"
      }
    },
    {
      "cell_type": "code",
      "source": [
        "i = 1\n",
        "while i < 6:\n",
        "  print(i)\n",
        "  i+=1\n",
        "else:\n",
        "  print(\"i is no longer less than 6\")"
      ],
      "metadata": {
        "colab": {
          "base_uri": "https://localhost:8080/"
        },
        "id": "jKdyKWlGhs5J",
        "outputId": "30ed3a05-66fb-4989-a1e2-360f55e6afef"
      },
      "execution_count": null,
      "outputs": [
        {
          "output_type": "stream",
          "name": "stdout",
          "text": [
            "1\n",
            "2\n",
            "3\n",
            "4\n",
            "5\n",
            "i is no longer less than 6\n"
          ]
        }
      ]
    },
    {
      "cell_type": "markdown",
      "source": [
        "INPUT"
      ],
      "metadata": {
        "id": "6TDHJqfRi8No"
      }
    },
    {
      "cell_type": "code",
      "source": [
        "username = input(\"Please enter a username: \")\n",
        "print(\"Username is: \" + username)"
      ],
      "metadata": {
        "colab": {
          "base_uri": "https://localhost:8080/"
        },
        "id": "tWhWtmSVi9XZ",
        "outputId": "b1848690-f469-4d73-9c9a-4b8d5a7219b7"
      },
      "execution_count": null,
      "outputs": [
        {
          "output_type": "stream",
          "name": "stdout",
          "text": [
            "Please enter a username: Anu\n",
            "Username is: Anu\n"
          ]
        }
      ]
    },
    {
      "cell_type": "code",
      "source": [
        "#input while sth\n",
        "prompt = \"Input a message. This will repeat unitl you type 'quit' \"\n",
        "message = \"\"\n",
        "\n",
        "while message != 'quit':\n",
        "  message = input(prompt)\n",
        "  print(message)"
      ],
      "metadata": {
        "colab": {
          "base_uri": "https://localhost:8080/"
        },
        "id": "8-j21fgsj4e3",
        "outputId": "857a0787-04d7-46f8-ce17-295c28c1cdf2"
      },
      "execution_count": null,
      "outputs": [
        {
          "output_type": "stream",
          "name": "stdout",
          "text": [
            "Input a message. This will repeat unitl you type 'quit' quit\n",
            "quit\n"
          ]
        }
      ]
    },
    {
      "cell_type": "markdown",
      "source": [
        "FUNCTION"
      ],
      "metadata": {
        "id": "Gyp8dbde5IAx"
      }
    },
    {
      "cell_type": "code",
      "source": [
        "def greeting():\n",
        "  print(\"Hello there!\")\n",
        "greeting()"
      ],
      "metadata": {
        "colab": {
          "base_uri": "https://localhost:8080/"
        },
        "id": "_S42pkn-5MD6",
        "outputId": "e0620622-9db3-4ea1-b4d4-448ec495a115"
      },
      "execution_count": null,
      "outputs": [
        {
          "output_type": "stream",
          "name": "stdout",
          "text": [
            "Hello there!\n"
          ]
        }
      ]
    },
    {
      "cell_type": "code",
      "source": [
        "def my_function(name):\n",
        "  print(\"Hi there \" + name)\n",
        "my_function('Anu')"
      ],
      "metadata": {
        "colab": {
          "base_uri": "https://localhost:8080/"
        },
        "id": "YxWh6jHe6him",
        "outputId": "58e669d5-fb87-43af-e95a-d9b2ff422ce6"
      },
      "execution_count": null,
      "outputs": [
        {
          "output_type": "stream",
          "name": "stdout",
          "text": [
            "Hi there Anu\n"
          ]
        }
      ]
    },
    {
      "cell_type": "markdown",
      "source": [
        "EXERCISE"
      ],
      "metadata": {
        "id": "CS_wZ9qa7h63"
      }
    },
    {
      "cell_type": "code",
      "source": [
        "def my_function(age):\n",
        "  print(\"My age is \" + age)\n",
        "my_function('22')"
      ],
      "metadata": {
        "colab": {
          "base_uri": "https://localhost:8080/"
        },
        "id": "s3EOFRWc7j6n",
        "outputId": "5d90d337-ca3d-4baa-93b2-8a9cc2e901cc"
      },
      "execution_count": null,
      "outputs": [
        {
          "output_type": "stream",
          "name": "stdout",
          "text": [
            "My age is 22\n"
          ]
        }
      ]
    },
    {
      "cell_type": "code",
      "source": [
        "def greeting(firstname, lastname, age):\n",
        "  print(\"I am \" + firstname + \" \" + lastname + \" and I am \" + str(age) + \" years old.\")\n",
        "greeting('John', 'Doe', 43 )"
      ],
      "metadata": {
        "colab": {
          "base_uri": "https://localhost:8080/"
        },
        "id": "z5BDln1lAb8R",
        "outputId": "6f801b41-d05a-44cb-8d6d-57ec23183788"
      },
      "execution_count": null,
      "outputs": [
        {
          "output_type": "stream",
          "name": "stdout",
          "text": [
            "I am John Doe and I am 43 years old.\n"
          ]
        }
      ]
    },
    {
      "cell_type": "markdown",
      "source": [
        "EXERCISE"
      ],
      "metadata": {
        "id": "kAAbudHLCB1a"
      }
    },
    {
      "cell_type": "code",
      "source": [
        "def function(city, country):\n",
        "  print(city + ' is the capital of ' + country + '.')\n",
        "function('Dhaka', 'Bangladesh')\n",
        "function('Delhi', 'India')\n",
        "function('London', 'England')"
      ],
      "metadata": {
        "colab": {
          "base_uri": "https://localhost:8080/"
        },
        "id": "xcxUrExoCD9g",
        "outputId": "38127a99-294a-45f3-aee5-891442fef0ee"
      },
      "execution_count": null,
      "outputs": [
        {
          "output_type": "stream",
          "name": "stdout",
          "text": [
            "Dhaka is the capital of Bangladesh.\n",
            "Delhi is the capital of India.\n",
            "London is the capital of England.\n"
          ]
        }
      ]
    },
    {
      "cell_type": "code",
      "source": [
        "def new_function(city = 'Dhaka', country = 'Bangladesh'): #default parameters\n",
        "  print(city + ' is the capital of ' + country + '.')\n",
        "new_function()\n",
        "\n"
      ],
      "metadata": {
        "colab": {
          "base_uri": "https://localhost:8080/"
        },
        "id": "yI4AndTNCppv",
        "outputId": "db79e177-2dc3-47a6-ad17-dc4143fdb70e"
      },
      "execution_count": null,
      "outputs": [
        {
          "output_type": "stream",
          "name": "stdout",
          "text": [
            "Dhaka is the capital of Bangladesh.\n"
          ]
        }
      ]
    }
  ]
}