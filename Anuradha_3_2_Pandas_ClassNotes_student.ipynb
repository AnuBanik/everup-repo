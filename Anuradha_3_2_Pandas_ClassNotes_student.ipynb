{
  "nbformat": 4,
  "nbformat_minor": 0,
  "metadata": {
    "colab": {
      "name": "Anuradha_3-2_Pandas ClassNotes_student.ipynb",
      "provenance": [],
      "collapsed_sections": [],
      "include_colab_link": true
    },
    "kernelspec": {
      "name": "python3",
      "display_name": "Python 3"
    }
  },
  "cells": [
    {
      "cell_type": "markdown",
      "metadata": {
        "id": "view-in-github",
        "colab_type": "text"
      },
      "source": [
        "<a href=\"https://colab.research.google.com/github/AnuBanik/everup-repo/blob/main/Anuradha_3_2_Pandas_ClassNotes_student.ipynb\" target=\"_parent\"><img src=\"https://colab.research.google.com/assets/colab-badge.svg\" alt=\"Open In Colab\"/></a>"
      ]
    },
    {
      "cell_type": "markdown",
      "source": [
        "#Pandas\n",
        "\n",
        "Pandas is an open source library built on top of NumPy\n",
        "* Allows for very fast analysis – data cleaning, preparationmodifications, etc.\n",
        "* Built-in visualization features \n",
        "* Works well with all types of data.\n",
        "* DataFrames\n",
        "* Missing Data\n",
        "* GroupBy\n",
        "* Merging, Joining data\n",
        "* etc, etc, etc"
      ],
      "metadata": {
        "id": "AnIN73FyN5vz"
      }
    },
    {
      "cell_type": "code",
      "metadata": {
        "id": "NWtMPzWIMriY"
      },
      "source": [
        "#must import pandas to access its functions in your notebook\n",
        "import pandas as pd\n",
        "import numpy as np #we'll also use a little numpy"
      ],
      "execution_count": null,
      "outputs": []
    },
    {
      "cell_type": "markdown",
      "source": [
        "##Series in pandas\n",
        "\n",
        "Series in Pandas have a labeled index and a datapoint. Series are a part of DataFrames. They are a one-dimensional ndarray with axis labels \n"
      ],
      "metadata": {
        "id": "r9qmvjY1PXo0"
      }
    },
    {
      "cell_type": "code",
      "source": [
        "#create a sample series\n",
        "\n",
        "labels = ['a','b','c']\n",
        "my_data = [10,20,30]\n",
        "arr = np.array(my_data)\n",
        "\n",
        "d = {'a':10, 'b':20, 'c':30}\n"
      ],
      "metadata": {
        "id": "w1KppYMcOai-"
      },
      "execution_count": null,
      "outputs": []
    },
    {
      "cell_type": "code",
      "source": [
        "pd.Series(data = my_data, index=labels)"
      ],
      "metadata": {
        "id": "wryz5VKGP-YH"
      },
      "execution_count": null,
      "outputs": []
    },
    {
      "cell_type": "markdown",
      "source": [
        "##Dataframes (df)\n",
        "\n",
        "Dataframes (df) are a key part of pandas, they are two-dimensional, tabular data that allow you to work with data in columns and rows."
      ],
      "metadata": {
        "id": "sR1LS9YlQ2MK"
      }
    },
    {
      "cell_type": "code",
      "source": [
        "#create a dataframe wiht random values using numpy\n",
        "\n",
        "from numpy.random import randn\n",
        "\n",
        "np.random.seed(123)"
      ],
      "metadata": {
        "id": "w4WLgv9lRAJt"
      },
      "execution_count": null,
      "outputs": []
    },
    {
      "cell_type": "code",
      "source": [
        "df = pd.DataFrame(randn(5,4), #creating a new dataframe, with five rows, four columns\n",
        "                  ['A','B','C','D','E'],['W','X','Y','Z']) #labeling the rows and columns\n",
        "\n",
        "df"
      ],
      "metadata": {
        "id": "pNzOoHnGRMt7"
      },
      "execution_count": null,
      "outputs": []
    },
    {
      "cell_type": "markdown",
      "source": [
        "##Dealing with rows and columns"
      ],
      "metadata": {
        "id": "dhT2lVufSSK5"
      }
    },
    {
      "cell_type": "markdown",
      "source": [
        "Select columns, pass a list of column names"
      ],
      "metadata": {
        "id": "8CHAjQVCSbyh"
      }
    },
    {
      "cell_type": "code",
      "source": [
        "#returns a vertical slice of the data with only columns W,X\n",
        "#does not affect the original dataframe\n",
        "\n",
        "df[['W','X']]"
      ],
      "metadata": {
        "id": "vYCfsBtkSaer"
      },
      "execution_count": null,
      "outputs": []
    },
    {
      "cell_type": "markdown",
      "source": [
        "Create new columns in dataframe"
      ],
      "metadata": {
        "id": "5-s07TJqTSjS"
      }
    },
    {
      "cell_type": "code",
      "source": [
        "df['new'] = df['W'] + df['Y']\n",
        "\n",
        "df"
      ],
      "metadata": {
        "id": "taZ1ezyqTKYb"
      },
      "execution_count": null,
      "outputs": []
    },
    {
      "cell_type": "markdown",
      "source": [
        "Deleting columns"
      ],
      "metadata": {
        "id": "kMFYy3XPS4ce"
      }
    },
    {
      "cell_type": "code",
      "source": [
        "#delete using df.drop()\n",
        "#inplace=True means the operation modifies the underlying data\n",
        "#instead of returning anything\n",
        "\n",
        "df.drop('new', axis=1, inplace=True) \n",
        "\n",
        "df\n"
      ],
      "metadata": {
        "id": "iK4zjKvxSzuX"
      },
      "execution_count": null,
      "outputs": []
    },
    {
      "cell_type": "code",
      "source": [
        "#creating a new dataframe with a subset of our data\n",
        "\n",
        "df2 = df[['W','X']]"
      ],
      "metadata": {
        "id": "t69N-jZpT4dY"
      },
      "execution_count": null,
      "outputs": []
    },
    {
      "cell_type": "markdown",
      "source": [
        "Deleting rows\n",
        "\n"
      ],
      "metadata": {
        "id": "RAE5YVx3TvVh"
      }
    },
    {
      "cell_type": "code",
      "source": [
        "df.drop('E', axis = 0)"
      ],
      "metadata": {
        "id": "vRmeuW5aUHJA"
      },
      "execution_count": null,
      "outputs": []
    },
    {
      "cell_type": "markdown",
      "source": [
        "Selecting rows using loc and iloc"
      ],
      "metadata": {
        "id": "2gP3CI0oUMYd"
      }
    },
    {
      "cell_type": "code",
      "source": [
        "#loc accesses rows using the row label\n",
        "\n",
        "df.loc['C']"
      ],
      "metadata": {
        "id": "4hf-5PDOUK2i"
      },
      "execution_count": null,
      "outputs": []
    },
    {
      "cell_type": "code",
      "source": [
        "#iloc accesses rows using the index position\n",
        "\n",
        "df.iloc[2]"
      ],
      "metadata": {
        "id": "pk8Z0vjqUZKt"
      },
      "execution_count": null,
      "outputs": []
    },
    {
      "cell_type": "markdown",
      "source": [
        "##Filtering"
      ],
      "metadata": {
        "id": "smoOQ20cUlcr"
      }
    },
    {
      "cell_type": "code",
      "source": [
        "#check to see if each value is greater than 0\n",
        "\n",
        "df > 0"
      ],
      "metadata": {
        "id": "KimVZhLTUo2Z"
      },
      "execution_count": null,
      "outputs": []
    },
    {
      "cell_type": "code",
      "source": [
        "#save it as a variable called booldf\n",
        "\n",
        "booldf = df > 0\n",
        "\n",
        "booldf"
      ],
      "metadata": {
        "id": "hDuXhpsxU-Xj"
      },
      "execution_count": null,
      "outputs": []
    },
    {
      "cell_type": "code",
      "source": [
        "# pass booldf into original dataframe \n",
        "#to see values where condition was true\n",
        "\n",
        "df[booldf]"
      ],
      "metadata": {
        "id": "LWYSnMBdVGwD"
      },
      "execution_count": null,
      "outputs": []
    },
    {
      "cell_type": "code",
      "source": [
        "#combine filter into one statement\n",
        "\n",
        "df[df>0]"
      ],
      "metadata": {
        "id": "sxjn_8NsVjN_"
      },
      "execution_count": null,
      "outputs": []
    },
    {
      "cell_type": "markdown",
      "source": [
        "Filtering based on criteria in a specific column"
      ],
      "metadata": {
        "id": "rEHm3YTWVuZJ"
      }
    },
    {
      "cell_type": "code",
      "source": [
        "df[df['Z']<0]"
      ],
      "metadata": {
        "id": "EPok2eO3VqGp"
      },
      "execution_count": null,
      "outputs": []
    },
    {
      "cell_type": "code",
      "source": [
        "df[df['W']>0]"
      ],
      "metadata": {
        "id": "mN5n7SxeV9Fz"
      },
      "execution_count": null,
      "outputs": []
    },
    {
      "cell_type": "markdown",
      "source": [
        "Renaming columns"
      ],
      "metadata": {
        "id": "MAmN49MqW5jR"
      }
    },
    {
      "cell_type": "code",
      "source": [
        "#use df.rename and map old names to new names\n",
        "df = df.rename(columns={'W':'Wnum', 'X': 'Xnum'})\n",
        "#creates a new copy of df\n",
        "df "
      ],
      "metadata": {
        "id": "0-FKytxMWGnN"
      },
      "execution_count": null,
      "outputs": []
    },
    {
      "cell_type": "code",
      "source": [
        "#or rename on the existing dataframe using inplace=True\n",
        "\n",
        "df.rename(columns={'Y':'Ynum', 'Z':'Znum'}, inplace=True)"
      ],
      "metadata": {
        "id": "8BBl8E8fXjKC"
      },
      "execution_count": null,
      "outputs": []
    },
    {
      "cell_type": "markdown",
      "source": [
        "#YOUR TURN 1\n",
        "\n",
        "Use the random number dataset below to do the following:\n",
        "\n",
        "* Create a new dataframe with only the first two columns.\n",
        "* In the new dataframe, rename the columns.\n",
        "* In the new dataframe, create a new column with values equal to the product of the first two columns.\n",
        "* In the original dataframe, drop the fifth row.\n"
      ],
      "metadata": {
        "id": "Rmpk26GkYZNb"
      }
    },
    {
      "cell_type": "code",
      "source": [
        "my_df = pd.DataFrame(randn(5,4), #creating a new dataframe, with five rows, four columns\n",
        "                  ['A','B','C','D','E'],['W','X','Y','Z']) #labeling the rows and columns\n",
        "\n",
        "my_df"
      ],
      "metadata": {
        "id": "02-7ZnhwY9KF"
      },
      "execution_count": null,
      "outputs": []
    },
    {
      "cell_type": "code",
      "source": [
        "new_df = my_df[['W','X']]\n",
        "new_df"
      ],
      "metadata": {
        "id": "8FivwnXE2Hhk"
      },
      "execution_count": null,
      "outputs": []
    },
    {
      "cell_type": "code",
      "source": [
        "new_df = new_df.rename(columns={'W':'Wnew', 'X': 'Xnew'})\n",
        "new_df"
      ],
      "metadata": {
        "id": "YIeboYcQ2Hwt"
      },
      "execution_count": null,
      "outputs": []
    },
    {
      "cell_type": "code",
      "source": [
        "my_df['product'] = my_df['W'] * my_df['X']\n",
        "my_df"
      ],
      "metadata": {
        "id": "XW3nGg8k2H-P"
      },
      "execution_count": null,
      "outputs": []
    },
    {
      "cell_type": "code",
      "source": [
        "new_df3 = my_df.drop('E', axis = 0)\n",
        "new_df3"
      ],
      "metadata": {
        "id": "kh-pUZJWKg7I"
      },
      "execution_count": null,
      "outputs": []
    },
    {
      "cell_type": "markdown",
      "source": [
        "#Working with a dataset\n",
        "\n",
        "Old Faithful eruption data, with two variables: time of eruption and waiting time until next eruption (in minutes)"
      ],
      "metadata": {
        "id": "ZTmo30xJTsY9"
      }
    },
    {
      "cell_type": "code",
      "metadata": {
        "id": "bQDaCXnqYKCg",
        "colab": {
          "base_uri": "https://localhost:8080/",
          "height": 423
        },
        "outputId": "077e4581-3917-4171-ec00-f7ae0face9b1"
      },
      "source": [
        "#importing data from a csv (which is stored in our class github)\n",
        "faithful_df = pd.read_csv('https://raw.githubusercontent.com/CunyLaguardiaDataAnalytics/datasets/master/faithful.csv')\n",
        "faithful_df"
      ],
      "execution_count": null,
      "outputs": [
        {
          "output_type": "execute_result",
          "data": {
            "text/html": [
              "\n",
              "  <div id=\"df-0442a043-99c5-4959-b6b0-62835e8290fa\">\n",
              "    <div class=\"colab-df-container\">\n",
              "      <div>\n",
              "<style scoped>\n",
              "    .dataframe tbody tr th:only-of-type {\n",
              "        vertical-align: middle;\n",
              "    }\n",
              "\n",
              "    .dataframe tbody tr th {\n",
              "        vertical-align: top;\n",
              "    }\n",
              "\n",
              "    .dataframe thead th {\n",
              "        text-align: right;\n",
              "    }\n",
              "</style>\n",
              "<table border=\"1\" class=\"dataframe\">\n",
              "  <thead>\n",
              "    <tr style=\"text-align: right;\">\n",
              "      <th></th>\n",
              "      <th>Unnamed: 0</th>\n",
              "      <th>eruptions</th>\n",
              "      <th>waiting</th>\n",
              "    </tr>\n",
              "  </thead>\n",
              "  <tbody>\n",
              "    <tr>\n",
              "      <th>0</th>\n",
              "      <td>1</td>\n",
              "      <td>3.600</td>\n",
              "      <td>79</td>\n",
              "    </tr>\n",
              "    <tr>\n",
              "      <th>1</th>\n",
              "      <td>2</td>\n",
              "      <td>1.800</td>\n",
              "      <td>54</td>\n",
              "    </tr>\n",
              "    <tr>\n",
              "      <th>2</th>\n",
              "      <td>3</td>\n",
              "      <td>3.333</td>\n",
              "      <td>74</td>\n",
              "    </tr>\n",
              "    <tr>\n",
              "      <th>3</th>\n",
              "      <td>4</td>\n",
              "      <td>2.283</td>\n",
              "      <td>62</td>\n",
              "    </tr>\n",
              "    <tr>\n",
              "      <th>4</th>\n",
              "      <td>5</td>\n",
              "      <td>4.533</td>\n",
              "      <td>85</td>\n",
              "    </tr>\n",
              "    <tr>\n",
              "      <th>...</th>\n",
              "      <td>...</td>\n",
              "      <td>...</td>\n",
              "      <td>...</td>\n",
              "    </tr>\n",
              "    <tr>\n",
              "      <th>267</th>\n",
              "      <td>268</td>\n",
              "      <td>4.117</td>\n",
              "      <td>81</td>\n",
              "    </tr>\n",
              "    <tr>\n",
              "      <th>268</th>\n",
              "      <td>269</td>\n",
              "      <td>2.150</td>\n",
              "      <td>46</td>\n",
              "    </tr>\n",
              "    <tr>\n",
              "      <th>269</th>\n",
              "      <td>270</td>\n",
              "      <td>4.417</td>\n",
              "      <td>90</td>\n",
              "    </tr>\n",
              "    <tr>\n",
              "      <th>270</th>\n",
              "      <td>271</td>\n",
              "      <td>1.817</td>\n",
              "      <td>46</td>\n",
              "    </tr>\n",
              "    <tr>\n",
              "      <th>271</th>\n",
              "      <td>272</td>\n",
              "      <td>4.467</td>\n",
              "      <td>74</td>\n",
              "    </tr>\n",
              "  </tbody>\n",
              "</table>\n",
              "<p>272 rows × 3 columns</p>\n",
              "</div>\n",
              "      <button class=\"colab-df-convert\" onclick=\"convertToInteractive('df-0442a043-99c5-4959-b6b0-62835e8290fa')\"\n",
              "              title=\"Convert this dataframe to an interactive table.\"\n",
              "              style=\"display:none;\">\n",
              "        \n",
              "  <svg xmlns=\"http://www.w3.org/2000/svg\" height=\"24px\"viewBox=\"0 0 24 24\"\n",
              "       width=\"24px\">\n",
              "    <path d=\"M0 0h24v24H0V0z\" fill=\"none\"/>\n",
              "    <path d=\"M18.56 5.44l.94 2.06.94-2.06 2.06-.94-2.06-.94-.94-2.06-.94 2.06-2.06.94zm-11 1L8.5 8.5l.94-2.06 2.06-.94-2.06-.94L8.5 2.5l-.94 2.06-2.06.94zm10 10l.94 2.06.94-2.06 2.06-.94-2.06-.94-.94-2.06-.94 2.06-2.06.94z\"/><path d=\"M17.41 7.96l-1.37-1.37c-.4-.4-.92-.59-1.43-.59-.52 0-1.04.2-1.43.59L10.3 9.45l-7.72 7.72c-.78.78-.78 2.05 0 2.83L4 21.41c.39.39.9.59 1.41.59.51 0 1.02-.2 1.41-.59l7.78-7.78 2.81-2.81c.8-.78.8-2.07 0-2.86zM5.41 20L4 18.59l7.72-7.72 1.47 1.35L5.41 20z\"/>\n",
              "  </svg>\n",
              "      </button>\n",
              "      \n",
              "  <style>\n",
              "    .colab-df-container {\n",
              "      display:flex;\n",
              "      flex-wrap:wrap;\n",
              "      gap: 12px;\n",
              "    }\n",
              "\n",
              "    .colab-df-convert {\n",
              "      background-color: #E8F0FE;\n",
              "      border: none;\n",
              "      border-radius: 50%;\n",
              "      cursor: pointer;\n",
              "      display: none;\n",
              "      fill: #1967D2;\n",
              "      height: 32px;\n",
              "      padding: 0 0 0 0;\n",
              "      width: 32px;\n",
              "    }\n",
              "\n",
              "    .colab-df-convert:hover {\n",
              "      background-color: #E2EBFA;\n",
              "      box-shadow: 0px 1px 2px rgba(60, 64, 67, 0.3), 0px 1px 3px 1px rgba(60, 64, 67, 0.15);\n",
              "      fill: #174EA6;\n",
              "    }\n",
              "\n",
              "    [theme=dark] .colab-df-convert {\n",
              "      background-color: #3B4455;\n",
              "      fill: #D2E3FC;\n",
              "    }\n",
              "\n",
              "    [theme=dark] .colab-df-convert:hover {\n",
              "      background-color: #434B5C;\n",
              "      box-shadow: 0px 1px 3px 1px rgba(0, 0, 0, 0.15);\n",
              "      filter: drop-shadow(0px 1px 2px rgba(0, 0, 0, 0.3));\n",
              "      fill: #FFFFFF;\n",
              "    }\n",
              "  </style>\n",
              "\n",
              "      <script>\n",
              "        const buttonEl =\n",
              "          document.querySelector('#df-0442a043-99c5-4959-b6b0-62835e8290fa button.colab-df-convert');\n",
              "        buttonEl.style.display =\n",
              "          google.colab.kernel.accessAllowed ? 'block' : 'none';\n",
              "\n",
              "        async function convertToInteractive(key) {\n",
              "          const element = document.querySelector('#df-0442a043-99c5-4959-b6b0-62835e8290fa');\n",
              "          const dataTable =\n",
              "            await google.colab.kernel.invokeFunction('convertToInteractive',\n",
              "                                                     [key], {});\n",
              "          if (!dataTable) return;\n",
              "\n",
              "          const docLinkHtml = 'Like what you see? Visit the ' +\n",
              "            '<a target=\"_blank\" href=https://colab.research.google.com/notebooks/data_table.ipynb>data table notebook</a>'\n",
              "            + ' to learn more about interactive tables.';\n",
              "          element.innerHTML = '';\n",
              "          dataTable['output_type'] = 'display_data';\n",
              "          await google.colab.output.renderOutput(dataTable, element);\n",
              "          const docLink = document.createElement('div');\n",
              "          docLink.innerHTML = docLinkHtml;\n",
              "          element.appendChild(docLink);\n",
              "        }\n",
              "      </script>\n",
              "    </div>\n",
              "  </div>\n",
              "  "
            ],
            "text/plain": [
              "     Unnamed: 0  eruptions  waiting\n",
              "0             1      3.600       79\n",
              "1             2      1.800       54\n",
              "2             3      3.333       74\n",
              "3             4      2.283       62\n",
              "4             5      4.533       85\n",
              "..          ...        ...      ...\n",
              "267         268      4.117       81\n",
              "268         269      2.150       46\n",
              "269         270      4.417       90\n",
              "270         271      1.817       46\n",
              "271         272      4.467       74\n",
              "\n",
              "[272 rows x 3 columns]"
            ]
          },
          "metadata": {},
          "execution_count": 36
        }
      ]
    },
    {
      "cell_type": "markdown",
      "source": [
        "Inspecting dataframe to understand its size, labels and elements"
      ],
      "metadata": {
        "id": "zpUJqXzQZw91"
      }
    },
    {
      "cell_type": "code",
      "metadata": {
        "id": "KUrPYwTgbwUm",
        "colab": {
          "base_uri": "https://localhost:8080/"
        },
        "outputId": "c641967f-a5cf-4c1d-ae22-52072b6020a6"
      },
      "source": [
        "#make sure it's a dataframe\n",
        "type(faithful_df)"
      ],
      "execution_count": null,
      "outputs": [
        {
          "output_type": "execute_result",
          "data": {
            "text/plain": [
              "pandas.core.frame.DataFrame"
            ]
          },
          "metadata": {},
          "execution_count": 192
        }
      ]
    },
    {
      "cell_type": "code",
      "metadata": {
        "id": "UcgejpfcbLWK",
        "colab": {
          "base_uri": "https://localhost:8080/"
        },
        "outputId": "a044e627-5264-4298-c462-68afd2b0891c"
      },
      "source": [
        "#shape shows the number of rows and columns\n",
        "faithful_df.shape"
      ],
      "execution_count": null,
      "outputs": [
        {
          "output_type": "execute_result",
          "data": {
            "text/plain": [
              "(272, 3)"
            ]
          },
          "metadata": {},
          "execution_count": 193
        }
      ]
    },
    {
      "cell_type": "code",
      "metadata": {
        "id": "y_LqXySIbSJ-"
      },
      "source": [
        "#columns shows the names of the columns\n",
        "faithful_df.columns"
      ],
      "execution_count": null,
      "outputs": []
    },
    {
      "cell_type": "code",
      "metadata": {
        "id": "NAkuyrcohZZr"
      },
      "source": [
        "#head shows the first rows of data\n",
        "#5 rows by default\n",
        "faithful_df.head()"
      ],
      "execution_count": null,
      "outputs": []
    },
    {
      "cell_type": "code",
      "metadata": {
        "id": "g_aKwANDhgBf"
      },
      "source": [
        "#you can see however many rows you want\n",
        "faithful_df.head(20)"
      ],
      "execution_count": null,
      "outputs": []
    },
    {
      "cell_type": "code",
      "metadata": {
        "id": "Uce1Op7qh6kk"
      },
      "source": [
        "#shows the bottom rows\n",
        "#five by default\n",
        "faithful_df.tail()"
      ],
      "execution_count": null,
      "outputs": []
    },
    {
      "cell_type": "code",
      "metadata": {
        "id": "9SoHRuFAiDJL"
      },
      "source": [
        "#or you can see however many you want\n",
        "faithful_df.tail(10)"
      ],
      "execution_count": null,
      "outputs": []
    },
    {
      "cell_type": "code",
      "metadata": {
        "id": "oVgmA6eJiH81"
      },
      "source": [
        "faithful_df.head(100)"
      ],
      "execution_count": null,
      "outputs": []
    },
    {
      "cell_type": "code",
      "metadata": {
        "id": "VDmP3GJdit1S"
      },
      "source": [
        "#count non-NaN cells for each column or row\n",
        "#ie the ones with data in them\n",
        "#summarizes by column by default, or use axis=1 for rows\n",
        "faithful_df.count()"
      ],
      "execution_count": null,
      "outputs": []
    },
    {
      "cell_type": "code",
      "metadata": {
        "id": "A-Ohvgaci6BO"
      },
      "source": [
        "#describe is a great summary of the data in each column\n",
        "faithful_df.describe()"
      ],
      "execution_count": null,
      "outputs": []
    },
    {
      "cell_type": "code",
      "metadata": {
        "id": "EmU9TjrdjN2G"
      },
      "source": [
        "#returns maximum of values of the specific axis\n",
        "#over columns by default\n",
        "faithful_df.max()"
      ],
      "execution_count": null,
      "outputs": []
    },
    {
      "cell_type": "markdown",
      "source": [
        "##YOUR TURN 2\n",
        "\n",
        "Using this dataset:\n",
        "* How many non-null datapoints are in each column?\n",
        "* Find the range of values\n",
        "* Find the mean \n",
        "* Find the median\n",
        "* Find all at once"
      ],
      "metadata": {
        "id": "SwRowpNXbX_1"
      }
    },
    {
      "cell_type": "code",
      "source": [
        "faithful_df.count()"
      ],
      "metadata": {
        "id": "pZfhmRDqbrwd"
      },
      "execution_count": null,
      "outputs": []
    },
    {
      "cell_type": "code",
      "source": [
        "faithful_df.max()"
      ],
      "metadata": {
        "id": "W4MhZZfWbr8b"
      },
      "execution_count": null,
      "outputs": []
    },
    {
      "cell_type": "code",
      "source": [
        "faithful_df.min()"
      ],
      "metadata": {
        "id": "CS7ysr3bbsGV"
      },
      "execution_count": null,
      "outputs": []
    },
    {
      "cell_type": "code",
      "source": [
        "faithful_df.mean()"
      ],
      "metadata": {
        "id": "_MKMWSIKbsOK"
      },
      "execution_count": null,
      "outputs": []
    },
    {
      "cell_type": "code",
      "source": [
        "faithful_df.median()"
      ],
      "metadata": {
        "id": "IoxNefa5bsV8"
      },
      "execution_count": null,
      "outputs": []
    },
    {
      "cell_type": "code",
      "source": [
        "faithful_df.describe()"
      ],
      "metadata": {
        "id": "wLoSUf9hbvG1"
      },
      "execution_count": null,
      "outputs": []
    },
    {
      "cell_type": "markdown",
      "source": [
        "Working with only one column at a time"
      ],
      "metadata": {
        "id": "5h2hSVgKcB1A"
      }
    },
    {
      "cell_type": "code",
      "metadata": {
        "id": "ZfpOhkEUjtKA"
      },
      "source": [
        "faithful_df['eruptions']"
      ],
      "execution_count": null,
      "outputs": []
    },
    {
      "cell_type": "code",
      "metadata": {
        "id": "H6Bv0v5wlGLf"
      },
      "source": [
        "#create a new dataset with only one column\n",
        "eruption_list = faithful_df['eruptions']"
      ],
      "execution_count": null,
      "outputs": []
    },
    {
      "cell_type": "code",
      "metadata": {
        "id": "W4OVwMc7lpMD"
      },
      "source": [
        "eruption_list"
      ],
      "execution_count": null,
      "outputs": []
    },
    {
      "cell_type": "code",
      "metadata": {
        "id": "xRFZXFYCl00K"
      },
      "source": [
        "#note that it's NOT automatically a dataframe\n",
        "type(eruption_list)"
      ],
      "execution_count": null,
      "outputs": []
    },
    {
      "cell_type": "code",
      "source": [
        "#we have to explicitly make it a dataframe\n",
        "pd.DataFrame(eruption_list)"
      ],
      "metadata": {
        "id": "_pwf0ZmccZA8"
      },
      "execution_count": null,
      "outputs": []
    },
    {
      "cell_type": "markdown",
      "source": [
        "#YOUR TURN 3\n",
        "\n",
        "Using this dataframe, run multiple functions on a couple different columns. Check your output and see if it's what you expected."
      ],
      "metadata": {
        "id": "tTFJh6kqcs67"
      }
    },
    {
      "cell_type": "code",
      "source": [
        "faithful_df['waiting'].mean()"
      ],
      "metadata": {
        "id": "EQ_GrbiVc-lu",
        "colab": {
          "base_uri": "https://localhost:8080/"
        },
        "outputId": "8e68022a-0fa3-4226-9b13-4103a40af7d4"
      },
      "execution_count": null,
      "outputs": [
        {
          "output_type": "execute_result",
          "data": {
            "text/plain": [
              "70.8970588235294"
            ]
          },
          "metadata": {},
          "execution_count": 206
        }
      ]
    },
    {
      "cell_type": "code",
      "source": [
        "faithful_df['waiting'].median()"
      ],
      "metadata": {
        "id": "twS-RLopc-9I",
        "colab": {
          "base_uri": "https://localhost:8080/"
        },
        "outputId": "83c3bb23-3704-44cf-a84f-d250232ede13"
      },
      "execution_count": null,
      "outputs": [
        {
          "output_type": "execute_result",
          "data": {
            "text/plain": [
              "76.0"
            ]
          },
          "metadata": {},
          "execution_count": 207
        }
      ]
    },
    {
      "cell_type": "code",
      "source": [
        "faithful_df['eruptions'].std()"
      ],
      "metadata": {
        "id": "oodRMyyqc_Hj",
        "colab": {
          "base_uri": "https://localhost:8080/"
        },
        "outputId": "f4d34e11-0822-484a-8c19-515f74392fef"
      },
      "execution_count": null,
      "outputs": [
        {
          "output_type": "execute_result",
          "data": {
            "text/plain": [
              "1.1413712511052077"
            ]
          },
          "metadata": {},
          "execution_count": 208
        }
      ]
    },
    {
      "cell_type": "code",
      "source": [
        "faithful_df['waiting'].describe()"
      ],
      "metadata": {
        "id": "_OBWHEiScoSD"
      },
      "execution_count": null,
      "outputs": []
    },
    {
      "cell_type": "code",
      "source": [
        "faithful_df['waiting'].min() > faithful_df['eruptions'].min()"
      ],
      "metadata": {
        "colab": {
          "base_uri": "https://localhost:8080/"
        },
        "id": "yOZR33nUr6BN",
        "outputId": "758a0361-743f-4222-95ba-cc39a276011a"
      },
      "execution_count": null,
      "outputs": [
        {
          "output_type": "execute_result",
          "data": {
            "text/plain": [
              "True"
            ]
          },
          "metadata": {},
          "execution_count": 28
        }
      ]
    },
    {
      "cell_type": "markdown",
      "source": [
        "# A little bit of exploratory data viz"
      ],
      "metadata": {
        "id": "RhsiM20Nu6Ux"
      }
    },
    {
      "cell_type": "code",
      "source": [
        "#import viz package matplotlib\n",
        "\n",
        "import matplotlib.pyplot as plot\n",
        "%matplotlib inline \n",
        "#this renders the plots in our notebooks"
      ],
      "metadata": {
        "id": "vU75IX7eu-MI"
      },
      "execution_count": null,
      "outputs": []
    },
    {
      "cell_type": "code",
      "source": [
        "#make a histogram\n",
        "\n",
        "faithful_df.hist()"
      ],
      "metadata": {
        "id": "ccnTZqLBvKtN",
        "colab": {
          "base_uri": "https://localhost:8080/",
          "height": 368
        },
        "outputId": "fc1831c4-da0c-45c3-b72c-b88432168f85"
      },
      "execution_count": null,
      "outputs": [
        {
          "output_type": "execute_result",
          "data": {
            "text/plain": [
              "array([[<matplotlib.axes._subplots.AxesSubplot object at 0x7f2ac68384d0>,\n",
              "        <matplotlib.axes._subplots.AxesSubplot object at 0x7f2ac67e6150>],\n",
              "       [<matplotlib.axes._subplots.AxesSubplot object at 0x7f2ac681e5d0>,\n",
              "        <matplotlib.axes._subplots.AxesSubplot object at 0x7f2ac67d0bd0>]],\n",
              "      dtype=object)"
            ]
          },
          "metadata": {},
          "execution_count": 214
        },
        {
          "output_type": "display_data",
          "data": {
            "image/png": "[encoded data removed]",
            "text/plain": [
              "<Figure size 432x288 with 4 Axes>"
            ]
          },
          "metadata": {
            "needs_background": "light"
          }
        }
      ]
    },
    {
      "cell_type": "code",
      "source": [
        "faithful_df.plot()"
      ],
      "metadata": {
        "id": "7As-nUjNw0e2",
        "colab": {
          "base_uri": "https://localhost:8080/",
          "height": 282
        },
        "outputId": "8020fa59-dc57-45cb-e7bd-9a5666494b34"
      },
      "execution_count": null,
      "outputs": [
        {
          "output_type": "execute_result",
          "data": {
            "text/plain": [
              "<matplotlib.axes._subplots.AxesSubplot at 0x7f2ac6741290>"
            ]
          },
          "metadata": {},
          "execution_count": 215
        },
        {
          "output_type": "display_data",
          "data": {
            "image/png": "[encoded data removed]",
            "text/plain": [
              "<Figure size 432x288 with 1 Axes>"
            ]
          },
          "metadata": {
            "needs_background": "light"
          }
        }
      ]
    },
    {
      "cell_type": "code",
      "source": [
        "faithful_df.plot(kind = 'scatter', x = 'waiting', y = 'eruptions')"
      ],
      "metadata": {
        "id": "uR8w1L0Sw9uA",
        "colab": {
          "base_uri": "https://localhost:8080/",
          "height": 296
        },
        "outputId": "54c1cd09-965e-4f79-bbb8-c64a44a27c5d"
      },
      "execution_count": null,
      "outputs": [
        {
          "output_type": "execute_result",
          "data": {
            "text/plain": [
              "<matplotlib.axes._subplots.AxesSubplot at 0x7f2ac666ead0>"
            ]
          },
          "metadata": {},
          "execution_count": 216
        },
        {
          "output_type": "display_data",
          "data": {
            "image/png": "[encoded data removed]",
            "text/plain": [
              "<Figure size 432x288 with 1 Axes>"
            ]
          },
          "metadata": {
            "needs_background": "light"
          }
        }
      ]
    },
    {
      "cell_type": "markdown",
      "source": [
        "## Practice\n",
        "Play with your plots a little bit. Use this website for inspiration and code snippets:\n",
        "\n",
        "https://bit.ly/2WPTwtW"
      ],
      "metadata": {
        "id": "b6JcsUB42rib"
      }
    },
    {
      "cell_type": "code",
      "source": [
        "faithful_df.plot.hist(alpha=1)"
      ],
      "metadata": {
        "id": "NxLcKJpN3CTu",
        "colab": {
          "base_uri": "https://localhost:8080/",
          "height": 282
        },
        "outputId": "03ee38f3-bb74-4280-b49e-c3500377f314"
      },
      "execution_count": null,
      "outputs": [
        {
          "output_type": "execute_result",
          "data": {
            "text/plain": [
              "<matplotlib.axes._subplots.AxesSubplot at 0x7f2ac5b3f650>"
            ]
          },
          "metadata": {},
          "execution_count": 228
        },
        {
          "output_type": "display_data",
          "data": {
            "image/png": "[encoded data removed]",
            "text/plain": [
              "<Figure size 432x288 with 1 Axes>"
            ]
          },
          "metadata": {
            "needs_background": "light"
          }
        }
      ]
    },
    {
      "cell_type": "code",
      "source": [
        "faithful_df['eruptions'].plot.hist(orientation='horizontal', cumulative=True)"
      ],
      "metadata": {
        "id": "By4L2Cik3ChQ",
        "colab": {
          "base_uri": "https://localhost:8080/",
          "height": 296
        },
        "outputId": "c5488b75-c202-4022-d8e2-635614ce93e3"
      },
      "execution_count": null,
      "outputs": [
        {
          "output_type": "execute_result",
          "data": {
            "text/plain": [
              "<matplotlib.axes._subplots.AxesSubplot at 0x7f2ac5960ed0>"
            ]
          },
          "metadata": {},
          "execution_count": 229
        },
        {
          "output_type": "display_data",
          "data": {
            "image/png": "[encoded data removed]",
            "text/plain": [
              "<Figure size 432x288 with 1 Axes>"
            ]
          },
          "metadata": {
            "needs_background": "light"
          }
        }
      ]
    },
    {
      "cell_type": "code",
      "source": [
        "faithful_df.plot.box()"
      ],
      "metadata": {
        "id": "bT_4EVxX3Cmd",
        "colab": {
          "base_uri": "https://localhost:8080/",
          "height": 282
        },
        "outputId": "6bfc8d3e-7ae2-4209-db2f-8d8eff7420e5"
      },
      "execution_count": null,
      "outputs": [
        {
          "output_type": "execute_result",
          "data": {
            "text/plain": [
              "<matplotlib.axes._subplots.AxesSubplot at 0x7f2ac58de8d0>"
            ]
          },
          "metadata": {},
          "execution_count": 230
        },
        {
          "output_type": "display_data",
          "data": {
            "image/png": "[encoded data removed]",
            "text/plain": [
              "<Figure size 432x288 with 1 Axes>"
            ]
          },
          "metadata": {
            "needs_background": "light"
          }
        }
      ]
    },
    {
      "cell_type": "code",
      "source": [
        "faithful_df.plot.area();"
      ],
      "metadata": {
        "colab": {
          "base_uri": "https://localhost:8080/",
          "height": 265
        },
        "id": "EWJnMSUuzHjT",
        "outputId": "f39feaf3-84f9-4bc7-94c7-01a7c446156c"
      },
      "execution_count": null,
      "outputs": [
        {
          "output_type": "display_data",
          "data": {
            "image/png": "[encoded data removed]",
            "text/plain": [
              "<Figure size 432x288 with 1 Axes>"
            ]
          },
          "metadata": {
            "needs_background": "light"
          }
        }
      ]
    },
    {
      "cell_type": "markdown",
      "source": [
        "#Let's analyze a dataset together\n",
        "\n",
        "Data from NYC's 311 system. Use this website for information about the dataset, including a record layout:\n",
        "\n",
        "[NYC Open Data](https://data.cityofnewyork.us/Social-Services/311-Service-Requests-from-2010-to-Present/erm2-nwe9)\n",
        "\n"
      ],
      "metadata": {
        "id": "FgkGq9g-eEYi"
      }
    },
    {
      "cell_type": "code",
      "source": [
        "import pandas as pd\n",
        "\n",
        "df_311 = pd.read_csv('https://raw.githubusercontent.com/CunyLaguardiaDataAnalytics/datasets/master/311_Service_Requests_from_2019May.csv')\n"
      ],
      "metadata": {
        "id": "O3GgS3lneKfK",
        "colab": {
          "base_uri": "https://localhost:8080/"
        },
        "outputId": "91460b04-3829-42dd-8d6f-dc12822d5265"
      },
      "execution_count": null,
      "outputs": [
        {
          "output_type": "stream",
          "name": "stderr",
          "text": [
            "/usr/local/lib/python3.7/dist-packages/IPython/core/interactiveshell.py:2718: DtypeWarning: Columns (6) have mixed types.Specify dtype option on import or set low_memory=False.\n",
            "  interactivity=interactivity, compiler=compiler, result=result)\n"
          ]
        }
      ]
    },
    {
      "cell_type": "code",
      "source": [
        "df_311.head()"
      ],
      "metadata": {
        "id": "-3aZd30WiB4l"
      },
      "execution_count": null,
      "outputs": []
    },
    {
      "cell_type": "markdown",
      "source": [
        "# YOUR TURN 4\n",
        "\n",
        "Run some code to get to know your dataframe.\n",
        "\n",
        "* Look at the first five rows.\n",
        "* How many rows and columns are there\n",
        "* What are the names of the columns?\n",
        "* Quickly summarize the data in each numerical column. \n",
        "* Look at your results. Is this something that makes sense to do on this data? Why or why not?"
      ],
      "metadata": {
        "id": "Lu4BJOh1enCS"
      }
    },
    {
      "cell_type": "code",
      "source": [
        "df_311.head(5)"
      ],
      "metadata": {
        "id": "DTK1y6xPflLA"
      },
      "execution_count": null,
      "outputs": []
    },
    {
      "cell_type": "code",
      "source": [
        "df_311.shape"
      ],
      "metadata": {
        "id": "B8bRQjq-fs8b"
      },
      "execution_count": null,
      "outputs": []
    },
    {
      "cell_type": "code",
      "source": [
        "df_311.columns"
      ],
      "metadata": {
        "id": "edwy7T5RftAn"
      },
      "execution_count": null,
      "outputs": []
    },
    {
      "cell_type": "code",
      "source": [
        "df_311.describe()"
      ],
      "metadata": {
        "id": "iZLu_CNSftEy"
      },
      "execution_count": null,
      "outputs": []
    },
    {
      "cell_type": "markdown",
      "source": [
        "NO. Because it won't run on text columns. But works only on numerical data. That's why the table above does not show all the columns as it does not make sense of program to show standard deviation or mean or median (bc it is all texts) of the data set."
      ],
      "metadata": {
        "id": "UX7fRo3K7hzW"
      }
    },
    {
      "cell_type": "markdown",
      "source": [
        "#Sorting data\n"
      ],
      "metadata": {
        "id": "bSOsPqBrh9br"
      }
    },
    {
      "cell_type": "code",
      "source": [
        "#defaults to ascending order\n",
        "df_311.sort_values('Created Date')\n"
      ],
      "metadata": {
        "id": "UDcSr6bfhe33"
      },
      "execution_count": null,
      "outputs": []
    },
    {
      "cell_type": "code",
      "source": [
        "#use this for descending\n",
        "\n",
        "df_311.sort_values('Created Date', ascending = False)"
      ],
      "metadata": {
        "id": "j9smhJQ0j10f"
      },
      "execution_count": null,
      "outputs": []
    },
    {
      "cell_type": "markdown",
      "source": [
        "## Practice sorting"
      ],
      "metadata": {
        "id": "cwHUZBLWn6Dg"
      }
    },
    {
      "cell_type": "code",
      "source": [
        "df_311.sort_values('Agency')"
      ],
      "metadata": {
        "id": "af7cMgWY2jwd"
      },
      "execution_count": null,
      "outputs": []
    },
    {
      "cell_type": "code",
      "source": [
        "df_311.sort_values('Closed Date')"
      ],
      "metadata": {
        "id": "9p8U9y_M2j0F"
      },
      "execution_count": null,
      "outputs": []
    },
    {
      "cell_type": "code",
      "source": [
        "df_311.sort_values('Closed Date', ascending = False)"
      ],
      "metadata": {
        "id": "SRIVOpD82j3t"
      },
      "execution_count": null,
      "outputs": []
    },
    {
      "cell_type": "code",
      "source": [
        "df_311.sort_values('City')"
      ],
      "metadata": {
        "id": "02JRK1nn2j7X"
      },
      "execution_count": null,
      "outputs": []
    },
    {
      "cell_type": "markdown",
      "source": [
        "#Filtering columns"
      ],
      "metadata": {
        "id": "G_e5VePQkfND"
      }
    },
    {
      "cell_type": "code",
      "source": [
        "#select a column\n",
        "\n",
        "df_311['Complaint Type']\n"
      ],
      "metadata": {
        "id": "lBj8jjnBko_p"
      },
      "execution_count": null,
      "outputs": []
    },
    {
      "cell_type": "code",
      "source": [
        "#select multiple columns\n",
        "\n",
        "df_311[['Complaint Type', 'Borough']]"
      ],
      "metadata": {
        "id": "v1xsbNQFlD1a"
      },
      "execution_count": null,
      "outputs": []
    },
    {
      "cell_type": "code",
      "source": [
        "#create a new df out of them\n",
        "\n",
        "df_311_2 = df_311[['Complaint Type', 'Borough']]"
      ],
      "metadata": {
        "id": "5UrKK-a8lX3R"
      },
      "execution_count": null,
      "outputs": []
    },
    {
      "cell_type": "markdown",
      "source": [
        "##Practice filtering by columns"
      ],
      "metadata": {
        "id": "d95w7xDtn_0P"
      }
    },
    {
      "cell_type": "code",
      "source": [
        "df_311['City']"
      ],
      "metadata": {
        "id": "aidSppypoC2o"
      },
      "execution_count": null,
      "outputs": []
    },
    {
      "cell_type": "code",
      "source": [
        "df_311[['City', 'Street Name']]"
      ],
      "metadata": {
        "id": "sqePi3ZhoDL7"
      },
      "execution_count": null,
      "outputs": []
    },
    {
      "cell_type": "code",
      "source": [
        "df_311_2 = df_311[['City', 'Street Name']]"
      ],
      "metadata": {
        "id": "aMW1IjgNoDFE"
      },
      "execution_count": null,
      "outputs": []
    },
    {
      "cell_type": "markdown",
      "source": [
        "##Filtering by rows"
      ],
      "metadata": {
        "id": "mVh0AdJRli1Y"
      }
    },
    {
      "cell_type": "code",
      "source": [
        "#create a new dataframe to hold our results\n",
        "\n",
        "df_food_poisoning = df_311[df_311['Complaint Type'] == 'Food Poisoning']\n",
        "\n",
        "df_food_poisoning"
      ],
      "metadata": {
        "id": "vlosGzBmlmRu"
      },
      "execution_count": null,
      "outputs": []
    },
    {
      "cell_type": "code",
      "source": [
        "#Add multiple criteria using & and or\n",
        "\n",
        "df_food_poisoning_bronx = df_311[(df_311['Complaint Type'] == 'Food Poisoning') \n",
        "          & (df_311['Borough'] == 'BRONX')] \n",
        "\n",
        "df_food_poisoning_bronx\n",
        "\n",
        "#will narrow down the result even more\n"
      ],
      "metadata": {
        "id": "cOoxvAYomWzl"
      },
      "execution_count": null,
      "outputs": []
    },
    {
      "cell_type": "code",
      "source": [
        "#filter for noise complaints\n",
        "\n",
        "df_311[df_311['Complaint Type'] == 'Noise']"
      ],
      "metadata": {
        "id": "trlnnv2TnsGN"
      },
      "execution_count": null,
      "outputs": []
    },
    {
      "cell_type": "code",
      "source": [
        "#filter for noise complaints and count them \n",
        "\n",
        "df_311[df_311['Complaint Type'] == 'Noise'].count()"
      ],
      "metadata": {
        "id": "t9lUVySNoQR9"
      },
      "execution_count": null,
      "outputs": []
    },
    {
      "cell_type": "code",
      "source": [
        "#filter for noise complaints using fuzzy matching\n",
        "\n",
        "df_311[df_311['Complaint Type'].str.contains('Noise')]"
      ],
      "metadata": {
        "id": "WF-hOO-koqTI"
      },
      "execution_count": null,
      "outputs": []
    },
    {
      "cell_type": "markdown",
      "source": [
        "##Practice filtering by rows"
      ],
      "metadata": {
        "id": "k8KTK6ThpCYW"
      }
    },
    {
      "cell_type": "code",
      "source": [
        "df_water_system = df_311[df_311['Complaint Type'] == 'Water System']\n",
        "\n",
        "df_water_system"
      ],
      "metadata": {
        "id": "ZZcAEFdspEsP"
      },
      "execution_count": null,
      "outputs": []
    },
    {
      "cell_type": "code",
      "source": [
        "df_311[df_311['City'] == 'BROOKLYN']"
      ],
      "metadata": {
        "id": "1mWbducSpFKc"
      },
      "execution_count": null,
      "outputs": []
    },
    {
      "cell_type": "code",
      "source": [
        "df_311[df_311['Status'] == 'Closed']"
      ],
      "metadata": {
        "id": "YFMBCoOcpGRU"
      },
      "execution_count": null,
      "outputs": []
    },
    {
      "cell_type": "code",
      "source": [
        "df_311[df_311['Status'] == 'Open']"
      ],
      "metadata": {
        "id": "rRUwQfc9pGCs"
      },
      "execution_count": null,
      "outputs": []
    },
    {
      "cell_type": "markdown",
      "source": [
        "#Aggregating data\n",
        "\n",
        "Aggregating means putting data into groups and then doing math on those groups (counting, summing, averaging, etc)"
      ],
      "metadata": {
        "id": "bhIpbg7nftcM"
      }
    },
    {
      "cell_type": "markdown",
      "source": [
        "Using group by to aggregate by certain columns"
      ],
      "metadata": {
        "id": "W4O5QDn1f6pB"
      }
    },
    {
      "cell_type": "code",
      "source": [
        "#groups by borough and counts the number of unique keys\n",
        "df_311.groupby(['Borough'])['Unique Key'].count()"
      ],
      "metadata": {
        "id": "yEuuOSEaf5Ql",
        "colab": {
          "base_uri": "https://localhost:8080/"
        },
        "outputId": "a0fcfde7-d664-40a6-dbb5-5f4f51f6c599"
      },
      "execution_count": null,
      "outputs": [
        {
          "output_type": "execute_result",
          "data": {
            "text/plain": [
              "Borough\n",
              "BRONX            10925\n",
              "BROOKLYN         22247\n",
              "MANHATTAN        13133\n",
              "QUEENS           18623\n",
              "STATEN ISLAND     3848\n",
              "Unspecified        861\n",
              "Name: Unique Key, dtype: int64"
            ]
          },
          "metadata": {},
          "execution_count": 3
        }
      ]
    },
    {
      "cell_type": "code",
      "source": [
        "df_311.groupby(['Borough'])['Unique Key'].count().sort_values(ascending=True)"
      ],
      "metadata": {
        "id": "pxQPErzLhAiI",
        "colab": {
          "base_uri": "https://localhost:8080/"
        },
        "outputId": "7045605e-5dab-42fa-c3f1-07ee78caff28"
      },
      "execution_count": null,
      "outputs": [
        {
          "output_type": "execute_result",
          "data": {
            "text/plain": [
              "Borough\n",
              "Unspecified        861\n",
              "STATEN ISLAND     3848\n",
              "BRONX            10925\n",
              "MANHATTAN        13133\n",
              "QUEENS           18623\n",
              "BROOKLYN         22247\n",
              "Name: Unique Key, dtype: int64"
            ]
          },
          "metadata": {},
          "execution_count": 4
        }
      ]
    },
    {
      "cell_type": "code",
      "source": [
        "df_311.groupby(['Landmark'])['Unique Key'].count().sort_values(ascending=False)"
      ],
      "metadata": {
        "colab": {
          "base_uri": "https://localhost:8080/"
        },
        "id": "R_G8jKWOKEQ2",
        "outputId": "c1541371-2669-4e4d-9da6-432a741e8a09"
      },
      "execution_count": null,
      "outputs": [
        {
          "output_type": "execute_result",
          "data": {
            "text/plain": [
              "Landmark\n",
              "CENTRAL PARK              4\n",
              "WASHINGTON SQUARE PARK    2\n",
              "J F K AIRPORT             2\n",
              "UNION SQUARE PARK         1\n",
              "UNDERWOOD PARK            1\n",
              "PS 44                     1\n",
              "LA GUARDIA AIRPORT        1\n",
              "GRAND CENTRAL TERM        1\n",
              "FT TOTTEN                 1\n",
              "CONEY ISLAND HOSPITAL     1\n",
              "CITY HALL                 1\n",
              "Name: Unique Key, dtype: int64"
            ]
          },
          "metadata": {},
          "execution_count": 7
        }
      ]
    },
    {
      "cell_type": "code",
      "source": [
        "df_311.groupby(['Complaint Type'])['Unique Key'].count().sort_values(ascending=False)"
      ],
      "metadata": {
        "colab": {
          "base_uri": "https://localhost:8080/"
        },
        "id": "o4npNxeeLRdb",
        "outputId": "89651217-d6f4-4f98-e278-8bc5ec84c1ec"
      },
      "execution_count": null,
      "outputs": [
        {
          "output_type": "execute_result",
          "data": {
            "text/plain": [
              "Complaint Type\n",
              "Noise - Residential                    5838\n",
              "Request Large Bulky Item Collection    5301\n",
              "Illegal Parking                        5257\n",
              "Blocked Driveway                       3391\n",
              "Street Condition                       3080\n",
              "                                       ... \n",
              "Mosquitoes                                1\n",
              "Illegal Fireworks                         1\n",
              "Disorderly Youth                          1\n",
              "LinkNYC                                   1\n",
              "Window Guard                              1\n",
              "Name: Unique Key, Length: 186, dtype: int64"
            ]
          },
          "metadata": {},
          "execution_count": 11
        }
      ]
    },
    {
      "cell_type": "markdown",
      "source": [
        "#Missing data\n",
        " \n",
        " There are a few ways to check for missing values."
      ],
      "metadata": {
        "id": "zZ46rnhWpcYg"
      }
    },
    {
      "cell_type": "code",
      "source": [
        "import numpy as np\n",
        "df = {'A':[1,2,np.nan], 'B':[3,np.nan, np.nan]} #creating a sample df with missing values\n",
        "df = pd.DataFrame(df) #convert to a dataframe\n",
        "\n",
        "df"
      ],
      "metadata": {
        "id": "2qL6ksFKp9Tp",
        "colab": {
          "base_uri": "https://localhost:8080/",
          "height": 143
        },
        "outputId": "31f765a7-30ee-4aef-f69b-6843a3fab9da"
      },
      "execution_count": null,
      "outputs": [
        {
          "output_type": "execute_result",
          "data": {
            "text/html": [
              "\n",
              "  <div id=\"df-3d3a5ad3-bf27-4483-9302-f33d568fcc53\">\n",
              "    <div class=\"colab-df-container\">\n",
              "      <div>\n",
              "<style scoped>\n",
              "    .dataframe tbody tr th:only-of-type {\n",
              "        vertical-align: middle;\n",
              "    }\n",
              "\n",
              "    .dataframe tbody tr th {\n",
              "        vertical-align: top;\n",
              "    }\n",
              "\n",
              "    .dataframe thead th {\n",
              "        text-align: right;\n",
              "    }\n",
              "</style>\n",
              "<table border=\"1\" class=\"dataframe\">\n",
              "  <thead>\n",
              "    <tr style=\"text-align: right;\">\n",
              "      <th></th>\n",
              "      <th>A</th>\n",
              "      <th>B</th>\n",
              "    </tr>\n",
              "  </thead>\n",
              "  <tbody>\n",
              "    <tr>\n",
              "      <th>0</th>\n",
              "      <td>1.0</td>\n",
              "      <td>3.0</td>\n",
              "    </tr>\n",
              "    <tr>\n",
              "      <th>1</th>\n",
              "      <td>2.0</td>\n",
              "      <td>NaN</td>\n",
              "    </tr>\n",
              "    <tr>\n",
              "      <th>2</th>\n",
              "      <td>NaN</td>\n",
              "      <td>NaN</td>\n",
              "    </tr>\n",
              "  </tbody>\n",
              "</table>\n",
              "</div>\n",
              "      <button class=\"colab-df-convert\" onclick=\"convertToInteractive('df-3d3a5ad3-bf27-4483-9302-f33d568fcc53')\"\n",
              "              title=\"Convert this dataframe to an interactive table.\"\n",
              "              style=\"display:none;\">\n",
              "        \n",
              "  <svg xmlns=\"http://www.w3.org/2000/svg\" height=\"24px\"viewBox=\"0 0 24 24\"\n",
              "       width=\"24px\">\n",
              "    <path d=\"M0 0h24v24H0V0z\" fill=\"none\"/>\n",
              "    <path d=\"M18.56 5.44l.94 2.06.94-2.06 2.06-.94-2.06-.94-.94-2.06-.94 2.06-2.06.94zm-11 1L8.5 8.5l.94-2.06 2.06-.94-2.06-.94L8.5 2.5l-.94 2.06-2.06.94zm10 10l.94 2.06.94-2.06 2.06-.94-2.06-.94-.94-2.06-.94 2.06-2.06.94z\"/><path d=\"M17.41 7.96l-1.37-1.37c-.4-.4-.92-.59-1.43-.59-.52 0-1.04.2-1.43.59L10.3 9.45l-7.72 7.72c-.78.78-.78 2.05 0 2.83L4 21.41c.39.39.9.59 1.41.59.51 0 1.02-.2 1.41-.59l7.78-7.78 2.81-2.81c.8-.78.8-2.07 0-2.86zM5.41 20L4 18.59l7.72-7.72 1.47 1.35L5.41 20z\"/>\n",
              "  </svg>\n",
              "      </button>\n",
              "      \n",
              "  <style>\n",
              "    .colab-df-container {\n",
              "      display:flex;\n",
              "      flex-wrap:wrap;\n",
              "      gap: 12px;\n",
              "    }\n",
              "\n",
              "    .colab-df-convert {\n",
              "      background-color: #E8F0FE;\n",
              "      border: none;\n",
              "      border-radius: 50%;\n",
              "      cursor: pointer;\n",
              "      display: none;\n",
              "      fill: #1967D2;\n",
              "      height: 32px;\n",
              "      padding: 0 0 0 0;\n",
              "      width: 32px;\n",
              "    }\n",
              "\n",
              "    .colab-df-convert:hover {\n",
              "      background-color: #E2EBFA;\n",
              "      box-shadow: 0px 1px 2px rgba(60, 64, 67, 0.3), 0px 1px 3px 1px rgba(60, 64, 67, 0.15);\n",
              "      fill: #174EA6;\n",
              "    }\n",
              "\n",
              "    [theme=dark] .colab-df-convert {\n",
              "      background-color: #3B4455;\n",
              "      fill: #D2E3FC;\n",
              "    }\n",
              "\n",
              "    [theme=dark] .colab-df-convert:hover {\n",
              "      background-color: #434B5C;\n",
              "      box-shadow: 0px 1px 3px 1px rgba(0, 0, 0, 0.15);\n",
              "      filter: drop-shadow(0px 1px 2px rgba(0, 0, 0, 0.3));\n",
              "      fill: #FFFFFF;\n",
              "    }\n",
              "  </style>\n",
              "\n",
              "      <script>\n",
              "        const buttonEl =\n",
              "          document.querySelector('#df-3d3a5ad3-bf27-4483-9302-f33d568fcc53 button.colab-df-convert');\n",
              "        buttonEl.style.display =\n",
              "          google.colab.kernel.accessAllowed ? 'block' : 'none';\n",
              "\n",
              "        async function convertToInteractive(key) {\n",
              "          const element = document.querySelector('#df-3d3a5ad3-bf27-4483-9302-f33d568fcc53');\n",
              "          const dataTable =\n",
              "            await google.colab.kernel.invokeFunction('convertToInteractive',\n",
              "                                                     [key], {});\n",
              "          if (!dataTable) return;\n",
              "\n",
              "          const docLinkHtml = 'Like what you see? Visit the ' +\n",
              "            '<a target=\"_blank\" href=https://colab.research.google.com/notebooks/data_table.ipynb>data table notebook</a>'\n",
              "            + ' to learn more about interactive tables.';\n",
              "          element.innerHTML = '';\n",
              "          dataTable['output_type'] = 'display_data';\n",
              "          await google.colab.output.renderOutput(dataTable, element);\n",
              "          const docLink = document.createElement('div');\n",
              "          docLink.innerHTML = docLinkHtml;\n",
              "          element.appendChild(docLink);\n",
              "        }\n",
              "      </script>\n",
              "    </div>\n",
              "  </div>\n",
              "  "
            ],
            "text/plain": [
              "     A    B\n",
              "0  1.0  3.0\n",
              "1  2.0  NaN\n",
              "2  NaN  NaN"
            ]
          },
          "metadata": {},
          "execution_count": 12
        }
      ]
    },
    {
      "cell_type": "code",
      "source": [
        "#check for any missing values\n",
        "#isnull() works for small datasets but isn't practical for large ones\n",
        "df.isnull()"
      ],
      "metadata": {
        "id": "Um_J9XDRqyqY",
        "colab": {
          "base_uri": "https://localhost:8080/",
          "height": 143
        },
        "outputId": "55355914-6b80-4d86-a2ce-229ada71d402"
      },
      "execution_count": null,
      "outputs": [
        {
          "output_type": "execute_result",
          "data": {
            "text/html": [
              "\n",
              "  <div id=\"df-639d9af1-ef1d-4ac5-a241-1fdfc07b6d40\">\n",
              "    <div class=\"colab-df-container\">\n",
              "      <div>\n",
              "<style scoped>\n",
              "    .dataframe tbody tr th:only-of-type {\n",
              "        vertical-align: middle;\n",
              "    }\n",
              "\n",
              "    .dataframe tbody tr th {\n",
              "        vertical-align: top;\n",
              "    }\n",
              "\n",
              "    .dataframe thead th {\n",
              "        text-align: right;\n",
              "    }\n",
              "</style>\n",
              "<table border=\"1\" class=\"dataframe\">\n",
              "  <thead>\n",
              "    <tr style=\"text-align: right;\">\n",
              "      <th></th>\n",
              "      <th>A</th>\n",
              "      <th>B</th>\n",
              "    </tr>\n",
              "  </thead>\n",
              "  <tbody>\n",
              "    <tr>\n",
              "      <th>0</th>\n",
              "      <td>False</td>\n",
              "      <td>False</td>\n",
              "    </tr>\n",
              "    <tr>\n",
              "      <th>1</th>\n",
              "      <td>False</td>\n",
              "      <td>True</td>\n",
              "    </tr>\n",
              "    <tr>\n",
              "      <th>2</th>\n",
              "      <td>True</td>\n",
              "      <td>True</td>\n",
              "    </tr>\n",
              "  </tbody>\n",
              "</table>\n",
              "</div>\n",
              "      <button class=\"colab-df-convert\" onclick=\"convertToInteractive('df-639d9af1-ef1d-4ac5-a241-1fdfc07b6d40')\"\n",
              "              title=\"Convert this dataframe to an interactive table.\"\n",
              "              style=\"display:none;\">\n",
              "        \n",
              "  <svg xmlns=\"http://www.w3.org/2000/svg\" height=\"24px\"viewBox=\"0 0 24 24\"\n",
              "       width=\"24px\">\n",
              "    <path d=\"M0 0h24v24H0V0z\" fill=\"none\"/>\n",
              "    <path d=\"M18.56 5.44l.94 2.06.94-2.06 2.06-.94-2.06-.94-.94-2.06-.94 2.06-2.06.94zm-11 1L8.5 8.5l.94-2.06 2.06-.94-2.06-.94L8.5 2.5l-.94 2.06-2.06.94zm10 10l.94 2.06.94-2.06 2.06-.94-2.06-.94-.94-2.06-.94 2.06-2.06.94z\"/><path d=\"M17.41 7.96l-1.37-1.37c-.4-.4-.92-.59-1.43-.59-.52 0-1.04.2-1.43.59L10.3 9.45l-7.72 7.72c-.78.78-.78 2.05 0 2.83L4 21.41c.39.39.9.59 1.41.59.51 0 1.02-.2 1.41-.59l7.78-7.78 2.81-2.81c.8-.78.8-2.07 0-2.86zM5.41 20L4 18.59l7.72-7.72 1.47 1.35L5.41 20z\"/>\n",
              "  </svg>\n",
              "      </button>\n",
              "      \n",
              "  <style>\n",
              "    .colab-df-container {\n",
              "      display:flex;\n",
              "      flex-wrap:wrap;\n",
              "      gap: 12px;\n",
              "    }\n",
              "\n",
              "    .colab-df-convert {\n",
              "      background-color: #E8F0FE;\n",
              "      border: none;\n",
              "      border-radius: 50%;\n",
              "      cursor: pointer;\n",
              "      display: none;\n",
              "      fill: #1967D2;\n",
              "      height: 32px;\n",
              "      padding: 0 0 0 0;\n",
              "      width: 32px;\n",
              "    }\n",
              "\n",
              "    .colab-df-convert:hover {\n",
              "      background-color: #E2EBFA;\n",
              "      box-shadow: 0px 1px 2px rgba(60, 64, 67, 0.3), 0px 1px 3px 1px rgba(60, 64, 67, 0.15);\n",
              "      fill: #174EA6;\n",
              "    }\n",
              "\n",
              "    [theme=dark] .colab-df-convert {\n",
              "      background-color: #3B4455;\n",
              "      fill: #D2E3FC;\n",
              "    }\n",
              "\n",
              "    [theme=dark] .colab-df-convert:hover {\n",
              "      background-color: #434B5C;\n",
              "      box-shadow: 0px 1px 3px 1px rgba(0, 0, 0, 0.15);\n",
              "      filter: drop-shadow(0px 1px 2px rgba(0, 0, 0, 0.3));\n",
              "      fill: #FFFFFF;\n",
              "    }\n",
              "  </style>\n",
              "\n",
              "      <script>\n",
              "        const buttonEl =\n",
              "          document.querySelector('#df-639d9af1-ef1d-4ac5-a241-1fdfc07b6d40 button.colab-df-convert');\n",
              "        buttonEl.style.display =\n",
              "          google.colab.kernel.accessAllowed ? 'block' : 'none';\n",
              "\n",
              "        async function convertToInteractive(key) {\n",
              "          const element = document.querySelector('#df-639d9af1-ef1d-4ac5-a241-1fdfc07b6d40');\n",
              "          const dataTable =\n",
              "            await google.colab.kernel.invokeFunction('convertToInteractive',\n",
              "                                                     [key], {});\n",
              "          if (!dataTable) return;\n",
              "\n",
              "          const docLinkHtml = 'Like what you see? Visit the ' +\n",
              "            '<a target=\"_blank\" href=https://colab.research.google.com/notebooks/data_table.ipynb>data table notebook</a>'\n",
              "            + ' to learn more about interactive tables.';\n",
              "          element.innerHTML = '';\n",
              "          dataTable['output_type'] = 'display_data';\n",
              "          await google.colab.output.renderOutput(dataTable, element);\n",
              "          const docLink = document.createElement('div');\n",
              "          docLink.innerHTML = docLinkHtml;\n",
              "          element.appendChild(docLink);\n",
              "        }\n",
              "      </script>\n",
              "    </div>\n",
              "  </div>\n",
              "  "
            ],
            "text/plain": [
              "       A      B\n",
              "0  False  False\n",
              "1  False   True\n",
              "2   True   True"
            ]
          },
          "metadata": {},
          "execution_count": 13
        }
      ]
    },
    {
      "cell_type": "code",
      "source": [
        "#add up missing values by column\n",
        "df.isnull().sum()"
      ],
      "metadata": {
        "id": "zu-S1G3urG6T",
        "colab": {
          "base_uri": "https://localhost:8080/"
        },
        "outputId": "8d52634c-2b6c-4328-8cfc-ee8dc53416fa"
      },
      "execution_count": null,
      "outputs": [
        {
          "output_type": "execute_result",
          "data": {
            "text/plain": [
              "A    1\n",
              "B    2\n",
              "dtype: int64"
            ]
          },
          "metadata": {},
          "execution_count": 14
        }
      ]
    },
    {
      "cell_type": "code",
      "source": [
        "#add up total missing values\n",
        "df.isnull().sum().sum()"
      ],
      "metadata": {
        "id": "SvlXzVffrVY7",
        "colab": {
          "base_uri": "https://localhost:8080/"
        },
        "outputId": "5ac8b25c-d00a-4cbd-f0eb-5f621dc4ea8d"
      },
      "execution_count": null,
      "outputs": [
        {
          "output_type": "execute_result",
          "data": {
            "text/plain": [
              "3"
            ]
          },
          "metadata": {},
          "execution_count": 15
        }
      ]
    },
    {
      "cell_type": "markdown",
      "source": [
        "#Practice\n",
        "\n",
        "How many nans are in the 311 data?"
      ],
      "metadata": {
        "id": "DdlCT7plrjeG"
      }
    },
    {
      "cell_type": "code",
      "source": [
        "df_311.isnull().sum().sum()"
      ],
      "metadata": {
        "id": "OBQigKNkrruK",
        "colab": {
          "base_uri": "https://localhost:8080/"
        },
        "outputId": "724cc694-82d7-4322-8932-1b3846c410c4"
      },
      "execution_count": null,
      "outputs": [
        {
          "output_type": "execute_result",
          "data": {
            "text/plain": [
              "231655"
            ]
          },
          "metadata": {},
          "execution_count": 16
        }
      ]
    },
    {
      "cell_type": "markdown",
      "source": [
        "Dropping missing values"
      ],
      "metadata": {
        "id": "ZuzEbfCyr4Ox"
      }
    },
    {
      "cell_type": "code",
      "source": [
        "#drop all rows with missing values\n",
        "df.dropna()"
      ],
      "metadata": {
        "id": "tsYiBVHBr22M",
        "colab": {
          "base_uri": "https://localhost:8080/",
          "height": 80
        },
        "outputId": "972e2613-023e-4d57-9241-ceed4539dc29"
      },
      "execution_count": null,
      "outputs": [
        {
          "output_type": "execute_result",
          "data": {
            "text/html": [
              "\n",
              "  <div id=\"df-4f6d154e-c09e-41ca-b3d9-850fd6b1cd63\">\n",
              "    <div class=\"colab-df-container\">\n",
              "      <div>\n",
              "<style scoped>\n",
              "    .dataframe tbody tr th:only-of-type {\n",
              "        vertical-align: middle;\n",
              "    }\n",
              "\n",
              "    .dataframe tbody tr th {\n",
              "        vertical-align: top;\n",
              "    }\n",
              "\n",
              "    .dataframe thead th {\n",
              "        text-align: right;\n",
              "    }\n",
              "</style>\n",
              "<table border=\"1\" class=\"dataframe\">\n",
              "  <thead>\n",
              "    <tr style=\"text-align: right;\">\n",
              "      <th></th>\n",
              "      <th>A</th>\n",
              "      <th>B</th>\n",
              "    </tr>\n",
              "  </thead>\n",
              "  <tbody>\n",
              "    <tr>\n",
              "      <th>0</th>\n",
              "      <td>1.0</td>\n",
              "      <td>3.0</td>\n",
              "    </tr>\n",
              "  </tbody>\n",
              "</table>\n",
              "</div>\n",
              "      <button class=\"colab-df-convert\" onclick=\"convertToInteractive('df-4f6d154e-c09e-41ca-b3d9-850fd6b1cd63')\"\n",
              "              title=\"Convert this dataframe to an interactive table.\"\n",
              "              style=\"display:none;\">\n",
              "        \n",
              "  <svg xmlns=\"http://www.w3.org/2000/svg\" height=\"24px\"viewBox=\"0 0 24 24\"\n",
              "       width=\"24px\">\n",
              "    <path d=\"M0 0h24v24H0V0z\" fill=\"none\"/>\n",
              "    <path d=\"M18.56 5.44l.94 2.06.94-2.06 2.06-.94-2.06-.94-.94-2.06-.94 2.06-2.06.94zm-11 1L8.5 8.5l.94-2.06 2.06-.94-2.06-.94L8.5 2.5l-.94 2.06-2.06.94zm10 10l.94 2.06.94-2.06 2.06-.94-2.06-.94-.94-2.06-.94 2.06-2.06.94z\"/><path d=\"M17.41 7.96l-1.37-1.37c-.4-.4-.92-.59-1.43-.59-.52 0-1.04.2-1.43.59L10.3 9.45l-7.72 7.72c-.78.78-.78 2.05 0 2.83L4 21.41c.39.39.9.59 1.41.59.51 0 1.02-.2 1.41-.59l7.78-7.78 2.81-2.81c.8-.78.8-2.07 0-2.86zM5.41 20L4 18.59l7.72-7.72 1.47 1.35L5.41 20z\"/>\n",
              "  </svg>\n",
              "      </button>\n",
              "      \n",
              "  <style>\n",
              "    .colab-df-container {\n",
              "      display:flex;\n",
              "      flex-wrap:wrap;\n",
              "      gap: 12px;\n",
              "    }\n",
              "\n",
              "    .colab-df-convert {\n",
              "      background-color: #E8F0FE;\n",
              "      border: none;\n",
              "      border-radius: 50%;\n",
              "      cursor: pointer;\n",
              "      display: none;\n",
              "      fill: #1967D2;\n",
              "      height: 32px;\n",
              "      padding: 0 0 0 0;\n",
              "      width: 32px;\n",
              "    }\n",
              "\n",
              "    .colab-df-convert:hover {\n",
              "      background-color: #E2EBFA;\n",
              "      box-shadow: 0px 1px 2px rgba(60, 64, 67, 0.3), 0px 1px 3px 1px rgba(60, 64, 67, 0.15);\n",
              "      fill: #174EA6;\n",
              "    }\n",
              "\n",
              "    [theme=dark] .colab-df-convert {\n",
              "      background-color: #3B4455;\n",
              "      fill: #D2E3FC;\n",
              "    }\n",
              "\n",
              "    [theme=dark] .colab-df-convert:hover {\n",
              "      background-color: #434B5C;\n",
              "      box-shadow: 0px 1px 3px 1px rgba(0, 0, 0, 0.15);\n",
              "      filter: drop-shadow(0px 1px 2px rgba(0, 0, 0, 0.3));\n",
              "      fill: #FFFFFF;\n",
              "    }\n",
              "  </style>\n",
              "\n",
              "      <script>\n",
              "        const buttonEl =\n",
              "          document.querySelector('#df-4f6d154e-c09e-41ca-b3d9-850fd6b1cd63 button.colab-df-convert');\n",
              "        buttonEl.style.display =\n",
              "          google.colab.kernel.accessAllowed ? 'block' : 'none';\n",
              "\n",
              "        async function convertToInteractive(key) {\n",
              "          const element = document.querySelector('#df-4f6d154e-c09e-41ca-b3d9-850fd6b1cd63');\n",
              "          const dataTable =\n",
              "            await google.colab.kernel.invokeFunction('convertToInteractive',\n",
              "                                                     [key], {});\n",
              "          if (!dataTable) return;\n",
              "\n",
              "          const docLinkHtml = 'Like what you see? Visit the ' +\n",
              "            '<a target=\"_blank\" href=https://colab.research.google.com/notebooks/data_table.ipynb>data table notebook</a>'\n",
              "            + ' to learn more about interactive tables.';\n",
              "          element.innerHTML = '';\n",
              "          dataTable['output_type'] = 'display_data';\n",
              "          await google.colab.output.renderOutput(dataTable, element);\n",
              "          const docLink = document.createElement('div');\n",
              "          docLink.innerHTML = docLinkHtml;\n",
              "          element.appendChild(docLink);\n",
              "        }\n",
              "      </script>\n",
              "    </div>\n",
              "  </div>\n",
              "  "
            ],
            "text/plain": [
              "     A    B\n",
              "0  1.0  3.0"
            ]
          },
          "metadata": {},
          "execution_count": 17
        }
      ]
    },
    {
      "cell_type": "code",
      "source": [
        "#drop all  columns that contain nans\n",
        "df.dropna(axis=1)"
      ],
      "metadata": {
        "id": "XSNMm2lnr3NF",
        "colab": {
          "base_uri": "https://localhost:8080/",
          "height": 126
        },
        "outputId": "3a6956cf-79bb-4fda-aba4-3e0cace31377"
      },
      "execution_count": null,
      "outputs": [
        {
          "output_type": "execute_result",
          "data": {
            "text/html": [
              "\n",
              "  <div id=\"df-0a41ea83-c1db-4874-bce1-3159d059fa47\">\n",
              "    <div class=\"colab-df-container\">\n",
              "      <div>\n",
              "<style scoped>\n",
              "    .dataframe tbody tr th:only-of-type {\n",
              "        vertical-align: middle;\n",
              "    }\n",
              "\n",
              "    .dataframe tbody tr th {\n",
              "        vertical-align: top;\n",
              "    }\n",
              "\n",
              "    .dataframe thead th {\n",
              "        text-align: right;\n",
              "    }\n",
              "</style>\n",
              "<table border=\"1\" class=\"dataframe\">\n",
              "  <thead>\n",
              "    <tr style=\"text-align: right;\">\n",
              "      <th></th>\n",
              "    </tr>\n",
              "  </thead>\n",
              "  <tbody>\n",
              "    <tr>\n",
              "      <th>0</th>\n",
              "    </tr>\n",
              "    <tr>\n",
              "      <th>1</th>\n",
              "    </tr>\n",
              "    <tr>\n",
              "      <th>2</th>\n",
              "    </tr>\n",
              "  </tbody>\n",
              "</table>\n",
              "</div>\n",
              "      <button class=\"colab-df-convert\" onclick=\"convertToInteractive('df-0a41ea83-c1db-4874-bce1-3159d059fa47')\"\n",
              "              title=\"Convert this dataframe to an interactive table.\"\n",
              "              style=\"display:none;\">\n",
              "        \n",
              "  <svg xmlns=\"http://www.w3.org/2000/svg\" height=\"24px\"viewBox=\"0 0 24 24\"\n",
              "       width=\"24px\">\n",
              "    <path d=\"M0 0h24v24H0V0z\" fill=\"none\"/>\n",
              "    <path d=\"M18.56 5.44l.94 2.06.94-2.06 2.06-.94-2.06-.94-.94-2.06-.94 2.06-2.06.94zm-11 1L8.5 8.5l.94-2.06 2.06-.94-2.06-.94L8.5 2.5l-.94 2.06-2.06.94zm10 10l.94 2.06.94-2.06 2.06-.94-2.06-.94-.94-2.06-.94 2.06-2.06.94z\"/><path d=\"M17.41 7.96l-1.37-1.37c-.4-.4-.92-.59-1.43-.59-.52 0-1.04.2-1.43.59L10.3 9.45l-7.72 7.72c-.78.78-.78 2.05 0 2.83L4 21.41c.39.39.9.59 1.41.59.51 0 1.02-.2 1.41-.59l7.78-7.78 2.81-2.81c.8-.78.8-2.07 0-2.86zM5.41 20L4 18.59l7.72-7.72 1.47 1.35L5.41 20z\"/>\n",
              "  </svg>\n",
              "      </button>\n",
              "      \n",
              "  <style>\n",
              "    .colab-df-container {\n",
              "      display:flex;\n",
              "      flex-wrap:wrap;\n",
              "      gap: 12px;\n",
              "    }\n",
              "\n",
              "    .colab-df-convert {\n",
              "      background-color: #E8F0FE;\n",
              "      border: none;\n",
              "      border-radius: 50%;\n",
              "      cursor: pointer;\n",
              "      display: none;\n",
              "      fill: #1967D2;\n",
              "      height: 32px;\n",
              "      padding: 0 0 0 0;\n",
              "      width: 32px;\n",
              "    }\n",
              "\n",
              "    .colab-df-convert:hover {\n",
              "      background-color: #E2EBFA;\n",
              "      box-shadow: 0px 1px 2px rgba(60, 64, 67, 0.3), 0px 1px 3px 1px rgba(60, 64, 67, 0.15);\n",
              "      fill: #174EA6;\n",
              "    }\n",
              "\n",
              "    [theme=dark] .colab-df-convert {\n",
              "      background-color: #3B4455;\n",
              "      fill: #D2E3FC;\n",
              "    }\n",
              "\n",
              "    [theme=dark] .colab-df-convert:hover {\n",
              "      background-color: #434B5C;\n",
              "      box-shadow: 0px 1px 3px 1px rgba(0, 0, 0, 0.15);\n",
              "      filter: drop-shadow(0px 1px 2px rgba(0, 0, 0, 0.3));\n",
              "      fill: #FFFFFF;\n",
              "    }\n",
              "  </style>\n",
              "\n",
              "      <script>\n",
              "        const buttonEl =\n",
              "          document.querySelector('#df-0a41ea83-c1db-4874-bce1-3159d059fa47 button.colab-df-convert');\n",
              "        buttonEl.style.display =\n",
              "          google.colab.kernel.accessAllowed ? 'block' : 'none';\n",
              "\n",
              "        async function convertToInteractive(key) {\n",
              "          const element = document.querySelector('#df-0a41ea83-c1db-4874-bce1-3159d059fa47');\n",
              "          const dataTable =\n",
              "            await google.colab.kernel.invokeFunction('convertToInteractive',\n",
              "                                                     [key], {});\n",
              "          if (!dataTable) return;\n",
              "\n",
              "          const docLinkHtml = 'Like what you see? Visit the ' +\n",
              "            '<a target=\"_blank\" href=https://colab.research.google.com/notebooks/data_table.ipynb>data table notebook</a>'\n",
              "            + ' to learn more about interactive tables.';\n",
              "          element.innerHTML = '';\n",
              "          dataTable['output_type'] = 'display_data';\n",
              "          await google.colab.output.renderOutput(dataTable, element);\n",
              "          const docLink = document.createElement('div');\n",
              "          docLink.innerHTML = docLinkHtml;\n",
              "          element.appendChild(docLink);\n",
              "        }\n",
              "      </script>\n",
              "    </div>\n",
              "  </div>\n",
              "  "
            ],
            "text/plain": [
              "Empty DataFrame\n",
              "Columns: []\n",
              "Index: [0, 1, 2]"
            ]
          },
          "metadata": {},
          "execution_count": 25
        }
      ]
    },
    {
      "cell_type": "code",
      "source": [
        "df.fillna(3)"
      ],
      "metadata": {
        "id": "tYr7AbhMs_vA",
        "colab": {
          "base_uri": "https://localhost:8080/",
          "height": 143
        },
        "outputId": "d81a042f-5fe5-40fc-cc3d-06cb7494a470"
      },
      "execution_count": null,
      "outputs": [
        {
          "output_type": "execute_result",
          "data": {
            "text/html": [
              "\n",
              "  <div id=\"df-48eac9b4-83ef-4c7b-9aa4-30b3f04ee4a3\">\n",
              "    <div class=\"colab-df-container\">\n",
              "      <div>\n",
              "<style scoped>\n",
              "    .dataframe tbody tr th:only-of-type {\n",
              "        vertical-align: middle;\n",
              "    }\n",
              "\n",
              "    .dataframe tbody tr th {\n",
              "        vertical-align: top;\n",
              "    }\n",
              "\n",
              "    .dataframe thead th {\n",
              "        text-align: right;\n",
              "    }\n",
              "</style>\n",
              "<table border=\"1\" class=\"dataframe\">\n",
              "  <thead>\n",
              "    <tr style=\"text-align: right;\">\n",
              "      <th></th>\n",
              "      <th>A</th>\n",
              "      <th>B</th>\n",
              "    </tr>\n",
              "  </thead>\n",
              "  <tbody>\n",
              "    <tr>\n",
              "      <th>0</th>\n",
              "      <td>1.0</td>\n",
              "      <td>3.0</td>\n",
              "    </tr>\n",
              "    <tr>\n",
              "      <th>1</th>\n",
              "      <td>2.0</td>\n",
              "      <td>3.0</td>\n",
              "    </tr>\n",
              "    <tr>\n",
              "      <th>2</th>\n",
              "      <td>3.0</td>\n",
              "      <td>3.0</td>\n",
              "    </tr>\n",
              "  </tbody>\n",
              "</table>\n",
              "</div>\n",
              "      <button class=\"colab-df-convert\" onclick=\"convertToInteractive('df-48eac9b4-83ef-4c7b-9aa4-30b3f04ee4a3')\"\n",
              "              title=\"Convert this dataframe to an interactive table.\"\n",
              "              style=\"display:none;\">\n",
              "        \n",
              "  <svg xmlns=\"http://www.w3.org/2000/svg\" height=\"24px\"viewBox=\"0 0 24 24\"\n",
              "       width=\"24px\">\n",
              "    <path d=\"M0 0h24v24H0V0z\" fill=\"none\"/>\n",
              "    <path d=\"M18.56 5.44l.94 2.06.94-2.06 2.06-.94-2.06-.94-.94-2.06-.94 2.06-2.06.94zm-11 1L8.5 8.5l.94-2.06 2.06-.94-2.06-.94L8.5 2.5l-.94 2.06-2.06.94zm10 10l.94 2.06.94-2.06 2.06-.94-2.06-.94-.94-2.06-.94 2.06-2.06.94z\"/><path d=\"M17.41 7.96l-1.37-1.37c-.4-.4-.92-.59-1.43-.59-.52 0-1.04.2-1.43.59L10.3 9.45l-7.72 7.72c-.78.78-.78 2.05 0 2.83L4 21.41c.39.39.9.59 1.41.59.51 0 1.02-.2 1.41-.59l7.78-7.78 2.81-2.81c.8-.78.8-2.07 0-2.86zM5.41 20L4 18.59l7.72-7.72 1.47 1.35L5.41 20z\"/>\n",
              "  </svg>\n",
              "      </button>\n",
              "      \n",
              "  <style>\n",
              "    .colab-df-container {\n",
              "      display:flex;\n",
              "      flex-wrap:wrap;\n",
              "      gap: 12px;\n",
              "    }\n",
              "\n",
              "    .colab-df-convert {\n",
              "      background-color: #E8F0FE;\n",
              "      border: none;\n",
              "      border-radius: 50%;\n",
              "      cursor: pointer;\n",
              "      display: none;\n",
              "      fill: #1967D2;\n",
              "      height: 32px;\n",
              "      padding: 0 0 0 0;\n",
              "      width: 32px;\n",
              "    }\n",
              "\n",
              "    .colab-df-convert:hover {\n",
              "      background-color: #E2EBFA;\n",
              "      box-shadow: 0px 1px 2px rgba(60, 64, 67, 0.3), 0px 1px 3px 1px rgba(60, 64, 67, 0.15);\n",
              "      fill: #174EA6;\n",
              "    }\n",
              "\n",
              "    [theme=dark] .colab-df-convert {\n",
              "      background-color: #3B4455;\n",
              "      fill: #D2E3FC;\n",
              "    }\n",
              "\n",
              "    [theme=dark] .colab-df-convert:hover {\n",
              "      background-color: #434B5C;\n",
              "      box-shadow: 0px 1px 3px 1px rgba(0, 0, 0, 0.15);\n",
              "      filter: drop-shadow(0px 1px 2px rgba(0, 0, 0, 0.3));\n",
              "      fill: #FFFFFF;\n",
              "    }\n",
              "  </style>\n",
              "\n",
              "      <script>\n",
              "        const buttonEl =\n",
              "          document.querySelector('#df-48eac9b4-83ef-4c7b-9aa4-30b3f04ee4a3 button.colab-df-convert');\n",
              "        buttonEl.style.display =\n",
              "          google.colab.kernel.accessAllowed ? 'block' : 'none';\n",
              "\n",
              "        async function convertToInteractive(key) {\n",
              "          const element = document.querySelector('#df-48eac9b4-83ef-4c7b-9aa4-30b3f04ee4a3');\n",
              "          const dataTable =\n",
              "            await google.colab.kernel.invokeFunction('convertToInteractive',\n",
              "                                                     [key], {});\n",
              "          if (!dataTable) return;\n",
              "\n",
              "          const docLinkHtml = 'Like what you see? Visit the ' +\n",
              "            '<a target=\"_blank\" href=https://colab.research.google.com/notebooks/data_table.ipynb>data table notebook</a>'\n",
              "            + ' to learn more about interactive tables.';\n",
              "          element.innerHTML = '';\n",
              "          dataTable['output_type'] = 'display_data';\n",
              "          await google.colab.output.renderOutput(dataTable, element);\n",
              "          const docLink = document.createElement('div');\n",
              "          docLink.innerHTML = docLinkHtml;\n",
              "          element.appendChild(docLink);\n",
              "        }\n",
              "      </script>\n",
              "    </div>\n",
              "  </div>\n",
              "  "
            ],
            "text/plain": [
              "     A    B\n",
              "0  1.0  3.0\n",
              "1  2.0  3.0\n",
              "2  3.0  3.0"
            ]
          },
          "metadata": {},
          "execution_count": 23
        }
      ]
    }
  ]
}